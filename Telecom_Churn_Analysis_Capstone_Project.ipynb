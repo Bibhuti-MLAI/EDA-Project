{
  "nbformat": 4,
  "nbformat_minor": 0,
  "metadata": {
    "kernelspec": {
      "display_name": "Python 3",
      "language": "python",
      "name": "python3"
    },
    "language_info": {
      "codemirror_mode": {
        "name": "ipython",
        "version": 3
      },
      "file_extension": ".py",
      "mimetype": "text/x-python",
      "name": "python",
      "nbconvert_exporter": "python",
      "pygments_lexer": "ipython3",
      "version": "3.6.6"
    },
    "colab": {
      "name": "Telecom_Churn_Analysis_Capstone_Project.ipynb",
      "provenance": [],
      "collapsed_sections": [],
      "include_colab_link": true
    }
  },
  "cells": [
    {
      "cell_type": "markdown",
      "metadata": {
        "id": "view-in-github",
        "colab_type": "text"
      },
      "source": [
        "<a href=\"https://colab.research.google.com/github/Bibhuti-MLAI/EDA-Project/blob/main/Telecom_Churn_Analysis_Capstone_Project.ipynb\" target=\"_parent\"><img src=\"https://colab.research.google.com/assets/colab-badge.svg\" alt=\"Open In Colab\"/></a>"
      ]
    },
    {
      "cell_type": "markdown",
      "metadata": {
        "id": "Y06xIdG26kRF"
      },
      "source": [
        "## <b> Orange S.A., formerly France Télécom S.A., is a French multinational telecommunications corporation. The Orange Telecom's Churn Dataset, consists of cleaned customer activity data (features), along with a churn label specifying whether a customer canceled the subscription.\n",
        "\n",
        "## <b> Explore and analyze the data to discover key factors responsible for customer churn and come up with ways/recommendations to ensure customer retention. </b>"
      ]
    },
    {
      "cell_type": "markdown",
      "metadata": {
        "id": "eHO9GUIFIt58"
      },
      "source": [
        "**Understand more about the data**"
      ]
    },
    {
      "cell_type": "code",
      "metadata": {
        "id": "dByMsuzT8Tnw"
      },
      "source": [
        "#import the required packages\n",
        "import pandas as pd\n",
        "import numpy as np\n",
        "#import visualization packages\n",
        "import matplotlib.pyplot as plt\n",
        "%matplotlib inline\n",
        "import seaborn as sns"
      ],
      "execution_count": null,
      "outputs": []
    },
    {
      "cell_type": "code",
      "metadata": {
        "colab": {
          "base_uri": "https://localhost:8080/"
        },
        "id": "NabnG1dWFgvq",
        "outputId": "98f4af07-d348-495f-e32e-d12fa60d432f"
      },
      "source": [
        "#mount the drive\n",
        "from google.colab import drive\n",
        "drive.mount('/content/drive')"
      ],
      "execution_count": null,
      "outputs": [
        {
          "output_type": "stream",
          "name": "stdout",
          "text": [
            "Mounted at /content/drive\n"
          ]
        }
      ]
    },
    {
      "cell_type": "code",
      "metadata": {
        "id": "o0uBwtICGsvo"
      },
      "source": [
        "#insert the data file \n",
        "working_dir_path='/content/drive/MyDrive/Projects AlmaBetter/EDA Project/'\n",
        "telecom_df= pd.read_csv(working_dir_path + 'Telecom Churn.csv')"
      ],
      "execution_count": null,
      "outputs": []
    },
    {
      "cell_type": "code",
      "metadata": {
        "colab": {
          "base_uri": "https://localhost:8080/",
          "height": 257
        },
        "id": "x6JcACmnYUX6",
        "outputId": "e9240208-8922-4dab-9027-a4fbe049b675"
      },
      "source": [
        "# Viewing the data of top 5 rows to look the glimps of the data\n",
        "telecom_df.head(5)"
      ],
      "execution_count": null,
      "outputs": [
        {
          "output_type": "execute_result",
          "data": {
            "text/html": [
              "<div>\n",
              "<style scoped>\n",
              "    .dataframe tbody tr th:only-of-type {\n",
              "        vertical-align: middle;\n",
              "    }\n",
              "\n",
              "    .dataframe tbody tr th {\n",
              "        vertical-align: top;\n",
              "    }\n",
              "\n",
              "    .dataframe thead th {\n",
              "        text-align: right;\n",
              "    }\n",
              "</style>\n",
              "<table border=\"1\" class=\"dataframe\">\n",
              "  <thead>\n",
              "    <tr style=\"text-align: right;\">\n",
              "      <th></th>\n",
              "      <th>State</th>\n",
              "      <th>Account length</th>\n",
              "      <th>Area code</th>\n",
              "      <th>International plan</th>\n",
              "      <th>Voice mail plan</th>\n",
              "      <th>Number vmail messages</th>\n",
              "      <th>Total day minutes</th>\n",
              "      <th>Total day calls</th>\n",
              "      <th>Total day charge</th>\n",
              "      <th>Total eve minutes</th>\n",
              "      <th>Total eve calls</th>\n",
              "      <th>Total eve charge</th>\n",
              "      <th>Total night minutes</th>\n",
              "      <th>Total night calls</th>\n",
              "      <th>Total night charge</th>\n",
              "      <th>Total intl minutes</th>\n",
              "      <th>Total intl calls</th>\n",
              "      <th>Total intl charge</th>\n",
              "      <th>Customer service calls</th>\n",
              "      <th>Churn</th>\n",
              "    </tr>\n",
              "  </thead>\n",
              "  <tbody>\n",
              "    <tr>\n",
              "      <th>0</th>\n",
              "      <td>KS</td>\n",
              "      <td>128</td>\n",
              "      <td>415</td>\n",
              "      <td>No</td>\n",
              "      <td>Yes</td>\n",
              "      <td>25</td>\n",
              "      <td>265.1</td>\n",
              "      <td>110</td>\n",
              "      <td>45.07</td>\n",
              "      <td>197.4</td>\n",
              "      <td>99</td>\n",
              "      <td>16.78</td>\n",
              "      <td>244.7</td>\n",
              "      <td>91</td>\n",
              "      <td>11.01</td>\n",
              "      <td>10.0</td>\n",
              "      <td>3</td>\n",
              "      <td>2.70</td>\n",
              "      <td>1</td>\n",
              "      <td>False</td>\n",
              "    </tr>\n",
              "    <tr>\n",
              "      <th>1</th>\n",
              "      <td>OH</td>\n",
              "      <td>107</td>\n",
              "      <td>415</td>\n",
              "      <td>No</td>\n",
              "      <td>Yes</td>\n",
              "      <td>26</td>\n",
              "      <td>161.6</td>\n",
              "      <td>123</td>\n",
              "      <td>27.47</td>\n",
              "      <td>195.5</td>\n",
              "      <td>103</td>\n",
              "      <td>16.62</td>\n",
              "      <td>254.4</td>\n",
              "      <td>103</td>\n",
              "      <td>11.45</td>\n",
              "      <td>13.7</td>\n",
              "      <td>3</td>\n",
              "      <td>3.70</td>\n",
              "      <td>1</td>\n",
              "      <td>False</td>\n",
              "    </tr>\n",
              "    <tr>\n",
              "      <th>2</th>\n",
              "      <td>NJ</td>\n",
              "      <td>137</td>\n",
              "      <td>415</td>\n",
              "      <td>No</td>\n",
              "      <td>No</td>\n",
              "      <td>0</td>\n",
              "      <td>243.4</td>\n",
              "      <td>114</td>\n",
              "      <td>41.38</td>\n",
              "      <td>121.2</td>\n",
              "      <td>110</td>\n",
              "      <td>10.30</td>\n",
              "      <td>162.6</td>\n",
              "      <td>104</td>\n",
              "      <td>7.32</td>\n",
              "      <td>12.2</td>\n",
              "      <td>5</td>\n",
              "      <td>3.29</td>\n",
              "      <td>0</td>\n",
              "      <td>False</td>\n",
              "    </tr>\n",
              "    <tr>\n",
              "      <th>3</th>\n",
              "      <td>OH</td>\n",
              "      <td>84</td>\n",
              "      <td>408</td>\n",
              "      <td>Yes</td>\n",
              "      <td>No</td>\n",
              "      <td>0</td>\n",
              "      <td>299.4</td>\n",
              "      <td>71</td>\n",
              "      <td>50.90</td>\n",
              "      <td>61.9</td>\n",
              "      <td>88</td>\n",
              "      <td>5.26</td>\n",
              "      <td>196.9</td>\n",
              "      <td>89</td>\n",
              "      <td>8.86</td>\n",
              "      <td>6.6</td>\n",
              "      <td>7</td>\n",
              "      <td>1.78</td>\n",
              "      <td>2</td>\n",
              "      <td>False</td>\n",
              "    </tr>\n",
              "    <tr>\n",
              "      <th>4</th>\n",
              "      <td>OK</td>\n",
              "      <td>75</td>\n",
              "      <td>415</td>\n",
              "      <td>Yes</td>\n",
              "      <td>No</td>\n",
              "      <td>0</td>\n",
              "      <td>166.7</td>\n",
              "      <td>113</td>\n",
              "      <td>28.34</td>\n",
              "      <td>148.3</td>\n",
              "      <td>122</td>\n",
              "      <td>12.61</td>\n",
              "      <td>186.9</td>\n",
              "      <td>121</td>\n",
              "      <td>8.41</td>\n",
              "      <td>10.1</td>\n",
              "      <td>3</td>\n",
              "      <td>2.73</td>\n",
              "      <td>3</td>\n",
              "      <td>False</td>\n",
              "    </tr>\n",
              "  </tbody>\n",
              "</table>\n",
              "</div>"
            ],
            "text/plain": [
              "  State  Account length  ...  Customer service calls  Churn\n",
              "0    KS             128  ...                       1  False\n",
              "1    OH             107  ...                       1  False\n",
              "2    NJ             137  ...                       0  False\n",
              "3    OH              84  ...                       2  False\n",
              "4    OK              75  ...                       3  False\n",
              "\n",
              "[5 rows x 20 columns]"
            ]
          },
          "metadata": {},
          "execution_count": 4
        }
      ]
    },
    {
      "cell_type": "code",
      "metadata": {
        "colab": {
          "base_uri": "https://localhost:8080/",
          "height": 257
        },
        "id": "Gz6bVS3iZw35",
        "outputId": "9c4d1184-4ffc-40c2-bf14-1d2deab7add8"
      },
      "source": [
        "# View the data of bottom 5 rows to look the glimps of the data\n",
        "telecom_df.tail(5)"
      ],
      "execution_count": null,
      "outputs": [
        {
          "output_type": "execute_result",
          "data": {
            "text/html": [
              "<div>\n",
              "<style scoped>\n",
              "    .dataframe tbody tr th:only-of-type {\n",
              "        vertical-align: middle;\n",
              "    }\n",
              "\n",
              "    .dataframe tbody tr th {\n",
              "        vertical-align: top;\n",
              "    }\n",
              "\n",
              "    .dataframe thead th {\n",
              "        text-align: right;\n",
              "    }\n",
              "</style>\n",
              "<table border=\"1\" class=\"dataframe\">\n",
              "  <thead>\n",
              "    <tr style=\"text-align: right;\">\n",
              "      <th></th>\n",
              "      <th>State</th>\n",
              "      <th>Account length</th>\n",
              "      <th>Area code</th>\n",
              "      <th>International plan</th>\n",
              "      <th>Voice mail plan</th>\n",
              "      <th>Number vmail messages</th>\n",
              "      <th>Total day minutes</th>\n",
              "      <th>Total day calls</th>\n",
              "      <th>Total day charge</th>\n",
              "      <th>Total eve minutes</th>\n",
              "      <th>Total eve calls</th>\n",
              "      <th>Total eve charge</th>\n",
              "      <th>Total night minutes</th>\n",
              "      <th>Total night calls</th>\n",
              "      <th>Total night charge</th>\n",
              "      <th>Total intl minutes</th>\n",
              "      <th>Total intl calls</th>\n",
              "      <th>Total intl charge</th>\n",
              "      <th>Customer service calls</th>\n",
              "      <th>Churn</th>\n",
              "    </tr>\n",
              "  </thead>\n",
              "  <tbody>\n",
              "    <tr>\n",
              "      <th>3328</th>\n",
              "      <td>AZ</td>\n",
              "      <td>192</td>\n",
              "      <td>415</td>\n",
              "      <td>No</td>\n",
              "      <td>Yes</td>\n",
              "      <td>36</td>\n",
              "      <td>156.2</td>\n",
              "      <td>77</td>\n",
              "      <td>26.55</td>\n",
              "      <td>215.5</td>\n",
              "      <td>126</td>\n",
              "      <td>18.32</td>\n",
              "      <td>279.1</td>\n",
              "      <td>83</td>\n",
              "      <td>12.56</td>\n",
              "      <td>9.9</td>\n",
              "      <td>6</td>\n",
              "      <td>2.67</td>\n",
              "      <td>2</td>\n",
              "      <td>False</td>\n",
              "    </tr>\n",
              "    <tr>\n",
              "      <th>3329</th>\n",
              "      <td>WV</td>\n",
              "      <td>68</td>\n",
              "      <td>415</td>\n",
              "      <td>No</td>\n",
              "      <td>No</td>\n",
              "      <td>0</td>\n",
              "      <td>231.1</td>\n",
              "      <td>57</td>\n",
              "      <td>39.29</td>\n",
              "      <td>153.4</td>\n",
              "      <td>55</td>\n",
              "      <td>13.04</td>\n",
              "      <td>191.3</td>\n",
              "      <td>123</td>\n",
              "      <td>8.61</td>\n",
              "      <td>9.6</td>\n",
              "      <td>4</td>\n",
              "      <td>2.59</td>\n",
              "      <td>3</td>\n",
              "      <td>False</td>\n",
              "    </tr>\n",
              "    <tr>\n",
              "      <th>3330</th>\n",
              "      <td>RI</td>\n",
              "      <td>28</td>\n",
              "      <td>510</td>\n",
              "      <td>No</td>\n",
              "      <td>No</td>\n",
              "      <td>0</td>\n",
              "      <td>180.8</td>\n",
              "      <td>109</td>\n",
              "      <td>30.74</td>\n",
              "      <td>288.8</td>\n",
              "      <td>58</td>\n",
              "      <td>24.55</td>\n",
              "      <td>191.9</td>\n",
              "      <td>91</td>\n",
              "      <td>8.64</td>\n",
              "      <td>14.1</td>\n",
              "      <td>6</td>\n",
              "      <td>3.81</td>\n",
              "      <td>2</td>\n",
              "      <td>False</td>\n",
              "    </tr>\n",
              "    <tr>\n",
              "      <th>3331</th>\n",
              "      <td>CT</td>\n",
              "      <td>184</td>\n",
              "      <td>510</td>\n",
              "      <td>Yes</td>\n",
              "      <td>No</td>\n",
              "      <td>0</td>\n",
              "      <td>213.8</td>\n",
              "      <td>105</td>\n",
              "      <td>36.35</td>\n",
              "      <td>159.6</td>\n",
              "      <td>84</td>\n",
              "      <td>13.57</td>\n",
              "      <td>139.2</td>\n",
              "      <td>137</td>\n",
              "      <td>6.26</td>\n",
              "      <td>5.0</td>\n",
              "      <td>10</td>\n",
              "      <td>1.35</td>\n",
              "      <td>2</td>\n",
              "      <td>False</td>\n",
              "    </tr>\n",
              "    <tr>\n",
              "      <th>3332</th>\n",
              "      <td>TN</td>\n",
              "      <td>74</td>\n",
              "      <td>415</td>\n",
              "      <td>No</td>\n",
              "      <td>Yes</td>\n",
              "      <td>25</td>\n",
              "      <td>234.4</td>\n",
              "      <td>113</td>\n",
              "      <td>39.85</td>\n",
              "      <td>265.9</td>\n",
              "      <td>82</td>\n",
              "      <td>22.60</td>\n",
              "      <td>241.4</td>\n",
              "      <td>77</td>\n",
              "      <td>10.86</td>\n",
              "      <td>13.7</td>\n",
              "      <td>4</td>\n",
              "      <td>3.70</td>\n",
              "      <td>0</td>\n",
              "      <td>False</td>\n",
              "    </tr>\n",
              "  </tbody>\n",
              "</table>\n",
              "</div>"
            ],
            "text/plain": [
              "     State  Account length  ...  Customer service calls  Churn\n",
              "3328    AZ             192  ...                       2  False\n",
              "3329    WV              68  ...                       3  False\n",
              "3330    RI              28  ...                       2  False\n",
              "3331    CT             184  ...                       2  False\n",
              "3332    TN              74  ...                       0  False\n",
              "\n",
              "[5 rows x 20 columns]"
            ]
          },
          "metadata": {},
          "execution_count": 5
        }
      ]
    },
    {
      "cell_type": "code",
      "metadata": {
        "colab": {
          "base_uri": "https://localhost:8080/"
        },
        "id": "0U5gmVMjHbOu",
        "outputId": "c5302b82-11a6-4461-9076-813882c19d77"
      },
      "source": [
        "#Getting the shape of dataset with rows and columns\n",
        "print(telecom_df.shape)"
      ],
      "execution_count": null,
      "outputs": [
        {
          "output_type": "stream",
          "name": "stdout",
          "text": [
            "(3333, 20)\n"
          ]
        }
      ]
    },
    {
      "cell_type": "code",
      "metadata": {
        "colab": {
          "base_uri": "https://localhost:8080/"
        },
        "id": "P7Kb3QpnYrAE",
        "outputId": "8b141eab-a135-44ec-e966-0ad926c26127"
      },
      "source": [
        "#Getting all the columns\n",
        "telecom_df.columns"
      ],
      "execution_count": null,
      "outputs": [
        {
          "output_type": "execute_result",
          "data": {
            "text/plain": [
              "Index(['State', 'Account length', 'Area code', 'International plan',\n",
              "       'Voice mail plan', 'Number vmail messages', 'Total day minutes',\n",
              "       'Total day calls', 'Total day charge', 'Total eve minutes',\n",
              "       'Total eve calls', 'Total eve charge', 'Total night minutes',\n",
              "       'Total night calls', 'Total night charge', 'Total intl minutes',\n",
              "       'Total intl calls', 'Total intl charge', 'Customer service calls',\n",
              "       'Churn'],\n",
              "      dtype='object')"
            ]
          },
          "metadata": {},
          "execution_count": 6
        }
      ]
    },
    {
      "cell_type": "code",
      "metadata": {
        "colab": {
          "base_uri": "https://localhost:8080/"
        },
        "id": "FNV4UbEeaMm1",
        "outputId": "7dbf6846-b7d1-4f90-d9af-05c78f5f341d"
      },
      "source": [
        "#Getting the data types of all the columns\n",
        "telecom_df.dtypes"
      ],
      "execution_count": null,
      "outputs": [
        {
          "output_type": "execute_result",
          "data": {
            "text/plain": [
              "State                      object\n",
              "Account length              int64\n",
              "Area code                   int64\n",
              "International plan         object\n",
              "Voice mail plan            object\n",
              "Number vmail messages       int64\n",
              "Total day minutes         float64\n",
              "Total day calls             int64\n",
              "Total day charge          float64\n",
              "Total eve minutes         float64\n",
              "Total eve calls             int64\n",
              "Total eve charge          float64\n",
              "Total night minutes       float64\n",
              "Total night calls           int64\n",
              "Total night charge        float64\n",
              "Total intl minutes        float64\n",
              "Total intl calls            int64\n",
              "Total intl charge         float64\n",
              "Customer service calls      int64\n",
              "Churn                        bool\n",
              "dtype: object"
            ]
          },
          "metadata": {},
          "execution_count": 7
        }
      ]
    },
    {
      "cell_type": "code",
      "metadata": {
        "colab": {
          "base_uri": "https://localhost:8080/"
        },
        "id": "7L0WAfGFbvB9",
        "outputId": "5c76bbb9-22b6-4eea-e9d0-54ef70c37bcf"
      },
      "source": [
        "#check details about the data set\n",
        "telecom_df.info()"
      ],
      "execution_count": null,
      "outputs": [
        {
          "output_type": "stream",
          "name": "stdout",
          "text": [
            "<class 'pandas.core.frame.DataFrame'>\n",
            "RangeIndex: 3333 entries, 0 to 3332\n",
            "Data columns (total 20 columns):\n",
            " #   Column                  Non-Null Count  Dtype  \n",
            "---  ------                  --------------  -----  \n",
            " 0   State                   3333 non-null   object \n",
            " 1   Account length          3333 non-null   int64  \n",
            " 2   Area code               3333 non-null   int64  \n",
            " 3   International plan      3333 non-null   object \n",
            " 4   Voice mail plan         3333 non-null   object \n",
            " 5   Number vmail messages   3333 non-null   int64  \n",
            " 6   Total day minutes       3333 non-null   float64\n",
            " 7   Total day calls         3333 non-null   int64  \n",
            " 8   Total day charge        3333 non-null   float64\n",
            " 9   Total eve minutes       3333 non-null   float64\n",
            " 10  Total eve calls         3333 non-null   int64  \n",
            " 11  Total eve charge        3333 non-null   float64\n",
            " 12  Total night minutes     3333 non-null   float64\n",
            " 13  Total night calls       3333 non-null   int64  \n",
            " 14  Total night charge      3333 non-null   float64\n",
            " 15  Total intl minutes      3333 non-null   float64\n",
            " 16  Total intl calls        3333 non-null   int64  \n",
            " 17  Total intl charge       3333 non-null   float64\n",
            " 18  Customer service calls  3333 non-null   int64  \n",
            " 19  Churn                   3333 non-null   bool   \n",
            "dtypes: bool(1), float64(8), int64(8), object(3)\n",
            "memory usage: 498.1+ KB\n"
          ]
        }
      ]
    },
    {
      "cell_type": "markdown",
      "metadata": {
        "id": "5LcvTfrr7fWs"
      },
      "source": [
        "we see that we have 3333 entries and no null values are present and all are non null, Which show we do not have any missing values."
      ]
    },
    {
      "cell_type": "code",
      "metadata": {
        "colab": {
          "base_uri": "https://localhost:8080/"
        },
        "id": "dY7XO_TlhvnG",
        "outputId": "efa3a532-7e64-4b6e-906f-8c5533a2b7ca"
      },
      "source": [
        "telecom_df.nunique()"
      ],
      "execution_count": null,
      "outputs": [
        {
          "output_type": "execute_result",
          "data": {
            "text/plain": [
              "State                       51\n",
              "Account length             212\n",
              "Area code                    3\n",
              "International plan           2\n",
              "Voice mail plan              2\n",
              "Number vmail messages       46\n",
              "Total day minutes         1667\n",
              "Total day calls            119\n",
              "Total day charge          1667\n",
              "Total eve minutes         1611\n",
              "Total eve calls            123\n",
              "Total eve charge          1440\n",
              "Total night minutes       1591\n",
              "Total night calls          120\n",
              "Total night charge         933\n",
              "Total intl minutes         162\n",
              "Total intl calls            21\n",
              "Total intl charge          162\n",
              "Customer service calls      10\n",
              "Churn                        2\n",
              "dtype: int64"
            ]
          },
          "metadata": {},
          "execution_count": 9
        }
      ]
    },
    {
      "cell_type": "code",
      "metadata": {
        "colab": {
          "base_uri": "https://localhost:8080/"
        },
        "id": "16uGMyLCdKG_",
        "outputId": "f444575b-901a-4054-a741-c11bb22af6bd"
      },
      "source": [
        "#Printing the count of true and false in 'churn' feature\n",
        "print(telecom_df.Churn.value_counts())"
      ],
      "execution_count": null,
      "outputs": [
        {
          "output_type": "stream",
          "name": "stdout",
          "text": [
            "False    2850\n",
            "True      483\n",
            "Name: Churn, dtype: int64\n"
          ]
        }
      ]
    },
    {
      "cell_type": "code",
      "metadata": {
        "colab": {
          "base_uri": "https://localhost:8080/",
          "height": 248
        },
        "id": "IsQvKN2f1Hat",
        "outputId": "46557d8f-105b-4c21-e6bd-b3279ad65f6a"
      },
      "source": [
        "# Create a circle at the center of\n",
        "# the plot\n",
        "my_circle = plt.Circle((0, 0), 0.5, color='white')\n",
        "  \n",
        "# Give color names\n",
        "plt.pie(telecom_df['Churn'].value_counts(),autopct='%1.1f%%',\n",
        "        colors=['red', 'green'])\n",
        "  \n",
        "p = plt.gcf()\n",
        "p.gca().add_artist(my_circle)\n",
        "  \n",
        "# Show the graph\n",
        "plt.show()"
      ],
      "execution_count": null,
      "outputs": [
        {
          "output_type": "display_data",
          "data": {
            "image/png": "[encoded data removed]",
            "text/plain": [
              "<Figure size 432x288 with 1 Axes>"
            ]
          },
          "metadata": {}
        }
      ]
    },
    {
      "cell_type": "code",
      "metadata": {
        "colab": {
          "base_uri": "https://localhost:8080/",
          "height": 442
        },
        "id": "JfH0C-p2cIWf",
        "outputId": "261a7817-d162-47ff-e444-645e0e8d1d2d"
      },
      "source": [
        "#Looking for the description of the dataset to get insights of the data\n",
        "telecom_df.describe(include='all')"
      ],
      "execution_count": null,
      "outputs": [
        {
          "output_type": "execute_result",
          "data": {
            "text/html": [
              "<div>\n",
              "<style scoped>\n",
              "    .dataframe tbody tr th:only-of-type {\n",
              "        vertical-align: middle;\n",
              "    }\n",
              "\n",
              "    .dataframe tbody tr th {\n",
              "        vertical-align: top;\n",
              "    }\n",
              "\n",
              "    .dataframe thead th {\n",
              "        text-align: right;\n",
              "    }\n",
              "</style>\n",
              "<table border=\"1\" class=\"dataframe\">\n",
              "  <thead>\n",
              "    <tr style=\"text-align: right;\">\n",
              "      <th></th>\n",
              "      <th>State</th>\n",
              "      <th>Account length</th>\n",
              "      <th>Area code</th>\n",
              "      <th>International plan</th>\n",
              "      <th>Voice mail plan</th>\n",
              "      <th>Number vmail messages</th>\n",
              "      <th>Total day minutes</th>\n",
              "      <th>Total day calls</th>\n",
              "      <th>Total day charge</th>\n",
              "      <th>Total eve minutes</th>\n",
              "      <th>Total eve calls</th>\n",
              "      <th>Total eve charge</th>\n",
              "      <th>Total night minutes</th>\n",
              "      <th>Total night calls</th>\n",
              "      <th>Total night charge</th>\n",
              "      <th>Total intl minutes</th>\n",
              "      <th>Total intl calls</th>\n",
              "      <th>Total intl charge</th>\n",
              "      <th>Customer service calls</th>\n",
              "      <th>Churn</th>\n",
              "    </tr>\n",
              "  </thead>\n",
              "  <tbody>\n",
              "    <tr>\n",
              "      <th>count</th>\n",
              "      <td>3333</td>\n",
              "      <td>3333.000000</td>\n",
              "      <td>3333.000000</td>\n",
              "      <td>3333</td>\n",
              "      <td>3333</td>\n",
              "      <td>3333.000000</td>\n",
              "      <td>3333.000000</td>\n",
              "      <td>3333.000000</td>\n",
              "      <td>3333.000000</td>\n",
              "      <td>3333.000000</td>\n",
              "      <td>3333.000000</td>\n",
              "      <td>3333.000000</td>\n",
              "      <td>3333.000000</td>\n",
              "      <td>3333.000000</td>\n",
              "      <td>3333.000000</td>\n",
              "      <td>3333.000000</td>\n",
              "      <td>3333.000000</td>\n",
              "      <td>3333.000000</td>\n",
              "      <td>3333.000000</td>\n",
              "      <td>3333</td>\n",
              "    </tr>\n",
              "    <tr>\n",
              "      <th>unique</th>\n",
              "      <td>51</td>\n",
              "      <td>NaN</td>\n",
              "      <td>NaN</td>\n",
              "      <td>2</td>\n",
              "      <td>2</td>\n",
              "      <td>NaN</td>\n",
              "      <td>NaN</td>\n",
              "      <td>NaN</td>\n",
              "      <td>NaN</td>\n",
              "      <td>NaN</td>\n",
              "      <td>NaN</td>\n",
              "      <td>NaN</td>\n",
              "      <td>NaN</td>\n",
              "      <td>NaN</td>\n",
              "      <td>NaN</td>\n",
              "      <td>NaN</td>\n",
              "      <td>NaN</td>\n",
              "      <td>NaN</td>\n",
              "      <td>NaN</td>\n",
              "      <td>2</td>\n",
              "    </tr>\n",
              "    <tr>\n",
              "      <th>top</th>\n",
              "      <td>WV</td>\n",
              "      <td>NaN</td>\n",
              "      <td>NaN</td>\n",
              "      <td>No</td>\n",
              "      <td>No</td>\n",
              "      <td>NaN</td>\n",
              "      <td>NaN</td>\n",
              "      <td>NaN</td>\n",
              "      <td>NaN</td>\n",
              "      <td>NaN</td>\n",
              "      <td>NaN</td>\n",
              "      <td>NaN</td>\n",
              "      <td>NaN</td>\n",
              "      <td>NaN</td>\n",
              "      <td>NaN</td>\n",
              "      <td>NaN</td>\n",
              "      <td>NaN</td>\n",
              "      <td>NaN</td>\n",
              "      <td>NaN</td>\n",
              "      <td>False</td>\n",
              "    </tr>\n",
              "    <tr>\n",
              "      <th>freq</th>\n",
              "      <td>106</td>\n",
              "      <td>NaN</td>\n",
              "      <td>NaN</td>\n",
              "      <td>3010</td>\n",
              "      <td>2411</td>\n",
              "      <td>NaN</td>\n",
              "      <td>NaN</td>\n",
              "      <td>NaN</td>\n",
              "      <td>NaN</td>\n",
              "      <td>NaN</td>\n",
              "      <td>NaN</td>\n",
              "      <td>NaN</td>\n",
              "      <td>NaN</td>\n",
              "      <td>NaN</td>\n",
              "      <td>NaN</td>\n",
              "      <td>NaN</td>\n",
              "      <td>NaN</td>\n",
              "      <td>NaN</td>\n",
              "      <td>NaN</td>\n",
              "      <td>2850</td>\n",
              "    </tr>\n",
              "    <tr>\n",
              "      <th>mean</th>\n",
              "      <td>NaN</td>\n",
              "      <td>101.064806</td>\n",
              "      <td>437.182418</td>\n",
              "      <td>NaN</td>\n",
              "      <td>NaN</td>\n",
              "      <td>8.099010</td>\n",
              "      <td>179.775098</td>\n",
              "      <td>100.435644</td>\n",
              "      <td>30.562307</td>\n",
              "      <td>200.980348</td>\n",
              "      <td>100.114311</td>\n",
              "      <td>17.083540</td>\n",
              "      <td>200.872037</td>\n",
              "      <td>100.107711</td>\n",
              "      <td>9.039325</td>\n",
              "      <td>10.237294</td>\n",
              "      <td>4.479448</td>\n",
              "      <td>2.764581</td>\n",
              "      <td>1.562856</td>\n",
              "      <td>NaN</td>\n",
              "    </tr>\n",
              "    <tr>\n",
              "      <th>std</th>\n",
              "      <td>NaN</td>\n",
              "      <td>39.822106</td>\n",
              "      <td>42.371290</td>\n",
              "      <td>NaN</td>\n",
              "      <td>NaN</td>\n",
              "      <td>13.688365</td>\n",
              "      <td>54.467389</td>\n",
              "      <td>20.069084</td>\n",
              "      <td>9.259435</td>\n",
              "      <td>50.713844</td>\n",
              "      <td>19.922625</td>\n",
              "      <td>4.310668</td>\n",
              "      <td>50.573847</td>\n",
              "      <td>19.568609</td>\n",
              "      <td>2.275873</td>\n",
              "      <td>2.791840</td>\n",
              "      <td>2.461214</td>\n",
              "      <td>0.753773</td>\n",
              "      <td>1.315491</td>\n",
              "      <td>NaN</td>\n",
              "    </tr>\n",
              "    <tr>\n",
              "      <th>min</th>\n",
              "      <td>NaN</td>\n",
              "      <td>1.000000</td>\n",
              "      <td>408.000000</td>\n",
              "      <td>NaN</td>\n",
              "      <td>NaN</td>\n",
              "      <td>0.000000</td>\n",
              "      <td>0.000000</td>\n",
              "      <td>0.000000</td>\n",
              "      <td>0.000000</td>\n",
              "      <td>0.000000</td>\n",
              "      <td>0.000000</td>\n",
              "      <td>0.000000</td>\n",
              "      <td>23.200000</td>\n",
              "      <td>33.000000</td>\n",
              "      <td>1.040000</td>\n",
              "      <td>0.000000</td>\n",
              "      <td>0.000000</td>\n",
              "      <td>0.000000</td>\n",
              "      <td>0.000000</td>\n",
              "      <td>NaN</td>\n",
              "    </tr>\n",
              "    <tr>\n",
              "      <th>25%</th>\n",
              "      <td>NaN</td>\n",
              "      <td>74.000000</td>\n",
              "      <td>408.000000</td>\n",
              "      <td>NaN</td>\n",
              "      <td>NaN</td>\n",
              "      <td>0.000000</td>\n",
              "      <td>143.700000</td>\n",
              "      <td>87.000000</td>\n",
              "      <td>24.430000</td>\n",
              "      <td>166.600000</td>\n",
              "      <td>87.000000</td>\n",
              "      <td>14.160000</td>\n",
              "      <td>167.000000</td>\n",
              "      <td>87.000000</td>\n",
              "      <td>7.520000</td>\n",
              "      <td>8.500000</td>\n",
              "      <td>3.000000</td>\n",
              "      <td>2.300000</td>\n",
              "      <td>1.000000</td>\n",
              "      <td>NaN</td>\n",
              "    </tr>\n",
              "    <tr>\n",
              "      <th>50%</th>\n",
              "      <td>NaN</td>\n",
              "      <td>101.000000</td>\n",
              "      <td>415.000000</td>\n",
              "      <td>NaN</td>\n",
              "      <td>NaN</td>\n",
              "      <td>0.000000</td>\n",
              "      <td>179.400000</td>\n",
              "      <td>101.000000</td>\n",
              "      <td>30.500000</td>\n",
              "      <td>201.400000</td>\n",
              "      <td>100.000000</td>\n",
              "      <td>17.120000</td>\n",
              "      <td>201.200000</td>\n",
              "      <td>100.000000</td>\n",
              "      <td>9.050000</td>\n",
              "      <td>10.300000</td>\n",
              "      <td>4.000000</td>\n",
              "      <td>2.780000</td>\n",
              "      <td>1.000000</td>\n",
              "      <td>NaN</td>\n",
              "    </tr>\n",
              "    <tr>\n",
              "      <th>75%</th>\n",
              "      <td>NaN</td>\n",
              "      <td>127.000000</td>\n",
              "      <td>510.000000</td>\n",
              "      <td>NaN</td>\n",
              "      <td>NaN</td>\n",
              "      <td>20.000000</td>\n",
              "      <td>216.400000</td>\n",
              "      <td>114.000000</td>\n",
              "      <td>36.790000</td>\n",
              "      <td>235.300000</td>\n",
              "      <td>114.000000</td>\n",
              "      <td>20.000000</td>\n",
              "      <td>235.300000</td>\n",
              "      <td>113.000000</td>\n",
              "      <td>10.590000</td>\n",
              "      <td>12.100000</td>\n",
              "      <td>6.000000</td>\n",
              "      <td>3.270000</td>\n",
              "      <td>2.000000</td>\n",
              "      <td>NaN</td>\n",
              "    </tr>\n",
              "    <tr>\n",
              "      <th>max</th>\n",
              "      <td>NaN</td>\n",
              "      <td>243.000000</td>\n",
              "      <td>510.000000</td>\n",
              "      <td>NaN</td>\n",
              "      <td>NaN</td>\n",
              "      <td>51.000000</td>\n",
              "      <td>350.800000</td>\n",
              "      <td>165.000000</td>\n",
              "      <td>59.640000</td>\n",
              "      <td>363.700000</td>\n",
              "      <td>170.000000</td>\n",
              "      <td>30.910000</td>\n",
              "      <td>395.000000</td>\n",
              "      <td>175.000000</td>\n",
              "      <td>17.770000</td>\n",
              "      <td>20.000000</td>\n",
              "      <td>20.000000</td>\n",
              "      <td>5.400000</td>\n",
              "      <td>9.000000</td>\n",
              "      <td>NaN</td>\n",
              "    </tr>\n",
              "  </tbody>\n",
              "</table>\n",
              "</div>"
            ],
            "text/plain": [
              "       State  Account length  ...  Customer service calls  Churn\n",
              "count   3333     3333.000000  ...             3333.000000   3333\n",
              "unique    51             NaN  ...                     NaN      2\n",
              "top       WV             NaN  ...                     NaN  False\n",
              "freq     106             NaN  ...                     NaN   2850\n",
              "mean     NaN      101.064806  ...                1.562856    NaN\n",
              "std      NaN       39.822106  ...                1.315491    NaN\n",
              "min      NaN        1.000000  ...                0.000000    NaN\n",
              "25%      NaN       74.000000  ...                1.000000    NaN\n",
              "50%      NaN      101.000000  ...                1.000000    NaN\n",
              "75%      NaN      127.000000  ...                2.000000    NaN\n",
              "max      NaN      243.000000  ...                9.000000    NaN\n",
              "\n",
              "[11 rows x 20 columns]"
            ]
          },
          "metadata": {},
          "execution_count": 16
        }
      ]
    },
    {
      "cell_type": "markdown",
      "metadata": {
        "id": "0b0wykVSmJnj"
      },
      "source": [
        "### **Checking for Missing values**"
      ]
    },
    {
      "cell_type": "code",
      "metadata": {
        "colab": {
          "base_uri": "https://localhost:8080/"
        },
        "id": "5oksfdFFOntk",
        "outputId": "017cdf6a-83e1-4675-dfee-f2539e3cbf44"
      },
      "source": [
        "#check for count of missing values in each column.\n",
        "telecom_df.isna().sum()\n",
        "telecom_df.isnull().sum()\n",
        "#as we see there are no missing values present in nay column."
      ],
      "execution_count": null,
      "outputs": [
        {
          "output_type": "execute_result",
          "data": {
            "text/plain": [
              "State                     0\n",
              "Account length            0\n",
              "Area code                 0\n",
              "International plan        0\n",
              "Voice mail plan           0\n",
              "Number vmail messages     0\n",
              "Total day minutes         0\n",
              "Total day calls           0\n",
              "Total day charge          0\n",
              "Total eve minutes         0\n",
              "Total eve calls           0\n",
              "Total eve charge          0\n",
              "Total night minutes       0\n",
              "Total night calls         0\n",
              "Total night charge        0\n",
              "Total intl minutes        0\n",
              "Total intl calls          0\n",
              "Total intl charge         0\n",
              "Customer service calls    0\n",
              "Churn                     0\n",
              "dtype: int64"
            ]
          },
          "metadata": {},
          "execution_count": 17
        }
      ]
    },
    {
      "cell_type": "code",
      "metadata": {
        "colab": {
          "base_uri": "https://localhost:8080/",
          "height": 480
        },
        "id": "LhYU7H2lXmYp",
        "outputId": "75c7a703-6eba-4165-b4e6-b08a1c448927"
      },
      "source": [
        "missing = pd.DataFrame((telecom_df.isnull().sum())*100/telecom_df.shape[0]).reset_index()\n",
        "plt.figure(figsize=(16,5))\n",
        "ax = sns.pointplot('index',0,data=missing)\n",
        "plt.xticks(rotation =90,fontsize =7)\n",
        "plt.title(\"Percentage of Missing values\")\n",
        "plt.ylabel(\"PERCENTAGE\")\n",
        "plt.show()"
      ],
      "execution_count": null,
      "outputs": [
        {
          "output_type": "stream",
          "name": "stderr",
          "text": [
            "/usr/local/lib/python3.7/dist-packages/seaborn/_decorators.py:43: FutureWarning: Pass the following variables as keyword args: x, y. From version 0.12, the only valid positional argument will be `data`, and passing other arguments without an explicit keyword will result in an error or misinterpretation.\n",
            "  FutureWarning\n"
          ]
        },
        {
          "output_type": "display_data",
          "data": {
            "image/png": "[encoded data removed]",
            "text/plain": [
              "<Figure size 1152x360 with 1 Axes>"
            ]
          },
          "metadata": {
            "needs_background": "light"
          }
        }
      ]
    },
    {
      "cell_type": "code",
      "metadata": {
        "colab": {
          "base_uri": "https://localhost:8080/",
          "height": 257
        },
        "id": "Ib1rpvFLV1Wg",
        "outputId": "f676e127-9585-4721-8d8e-1ce3973ac5aa"
      },
      "source": [
        "#Drop Account Length as it doesnt make an effect on dependent variable \n",
        "telecom_df_new = telecom_df.drop('Account length',axis=1)\n",
        "telecom_df_new.head()"
      ],
      "execution_count": null,
      "outputs": [
        {
          "output_type": "execute_result",
          "data": {
            "text/html": [
              "<div>\n",
              "<style scoped>\n",
              "    .dataframe tbody tr th:only-of-type {\n",
              "        vertical-align: middle;\n",
              "    }\n",
              "\n",
              "    .dataframe tbody tr th {\n",
              "        vertical-align: top;\n",
              "    }\n",
              "\n",
              "    .dataframe thead th {\n",
              "        text-align: right;\n",
              "    }\n",
              "</style>\n",
              "<table border=\"1\" class=\"dataframe\">\n",
              "  <thead>\n",
              "    <tr style=\"text-align: right;\">\n",
              "      <th></th>\n",
              "      <th>State</th>\n",
              "      <th>Area code</th>\n",
              "      <th>International plan</th>\n",
              "      <th>Voice mail plan</th>\n",
              "      <th>Number vmail messages</th>\n",
              "      <th>Total day minutes</th>\n",
              "      <th>Total day calls</th>\n",
              "      <th>Total day charge</th>\n",
              "      <th>Total eve minutes</th>\n",
              "      <th>Total eve calls</th>\n",
              "      <th>Total eve charge</th>\n",
              "      <th>Total night minutes</th>\n",
              "      <th>Total night calls</th>\n",
              "      <th>Total night charge</th>\n",
              "      <th>Total intl minutes</th>\n",
              "      <th>Total intl calls</th>\n",
              "      <th>Total intl charge</th>\n",
              "      <th>Customer service calls</th>\n",
              "      <th>Churn</th>\n",
              "    </tr>\n",
              "  </thead>\n",
              "  <tbody>\n",
              "    <tr>\n",
              "      <th>0</th>\n",
              "      <td>KS</td>\n",
              "      <td>415</td>\n",
              "      <td>No</td>\n",
              "      <td>Yes</td>\n",
              "      <td>25</td>\n",
              "      <td>265.1</td>\n",
              "      <td>110</td>\n",
              "      <td>45.07</td>\n",
              "      <td>197.4</td>\n",
              "      <td>99</td>\n",
              "      <td>16.78</td>\n",
              "      <td>244.7</td>\n",
              "      <td>91</td>\n",
              "      <td>11.01</td>\n",
              "      <td>10.0</td>\n",
              "      <td>3</td>\n",
              "      <td>2.70</td>\n",
              "      <td>1</td>\n",
              "      <td>False</td>\n",
              "    </tr>\n",
              "    <tr>\n",
              "      <th>1</th>\n",
              "      <td>OH</td>\n",
              "      <td>415</td>\n",
              "      <td>No</td>\n",
              "      <td>Yes</td>\n",
              "      <td>26</td>\n",
              "      <td>161.6</td>\n",
              "      <td>123</td>\n",
              "      <td>27.47</td>\n",
              "      <td>195.5</td>\n",
              "      <td>103</td>\n",
              "      <td>16.62</td>\n",
              "      <td>254.4</td>\n",
              "      <td>103</td>\n",
              "      <td>11.45</td>\n",
              "      <td>13.7</td>\n",
              "      <td>3</td>\n",
              "      <td>3.70</td>\n",
              "      <td>1</td>\n",
              "      <td>False</td>\n",
              "    </tr>\n",
              "    <tr>\n",
              "      <th>2</th>\n",
              "      <td>NJ</td>\n",
              "      <td>415</td>\n",
              "      <td>No</td>\n",
              "      <td>No</td>\n",
              "      <td>0</td>\n",
              "      <td>243.4</td>\n",
              "      <td>114</td>\n",
              "      <td>41.38</td>\n",
              "      <td>121.2</td>\n",
              "      <td>110</td>\n",
              "      <td>10.30</td>\n",
              "      <td>162.6</td>\n",
              "      <td>104</td>\n",
              "      <td>7.32</td>\n",
              "      <td>12.2</td>\n",
              "      <td>5</td>\n",
              "      <td>3.29</td>\n",
              "      <td>0</td>\n",
              "      <td>False</td>\n",
              "    </tr>\n",
              "    <tr>\n",
              "      <th>3</th>\n",
              "      <td>OH</td>\n",
              "      <td>408</td>\n",
              "      <td>Yes</td>\n",
              "      <td>No</td>\n",
              "      <td>0</td>\n",
              "      <td>299.4</td>\n",
              "      <td>71</td>\n",
              "      <td>50.90</td>\n",
              "      <td>61.9</td>\n",
              "      <td>88</td>\n",
              "      <td>5.26</td>\n",
              "      <td>196.9</td>\n",
              "      <td>89</td>\n",
              "      <td>8.86</td>\n",
              "      <td>6.6</td>\n",
              "      <td>7</td>\n",
              "      <td>1.78</td>\n",
              "      <td>2</td>\n",
              "      <td>False</td>\n",
              "    </tr>\n",
              "    <tr>\n",
              "      <th>4</th>\n",
              "      <td>OK</td>\n",
              "      <td>415</td>\n",
              "      <td>Yes</td>\n",
              "      <td>No</td>\n",
              "      <td>0</td>\n",
              "      <td>166.7</td>\n",
              "      <td>113</td>\n",
              "      <td>28.34</td>\n",
              "      <td>148.3</td>\n",
              "      <td>122</td>\n",
              "      <td>12.61</td>\n",
              "      <td>186.9</td>\n",
              "      <td>121</td>\n",
              "      <td>8.41</td>\n",
              "      <td>10.1</td>\n",
              "      <td>3</td>\n",
              "      <td>2.73</td>\n",
              "      <td>3</td>\n",
              "      <td>False</td>\n",
              "    </tr>\n",
              "  </tbody>\n",
              "</table>\n",
              "</div>"
            ],
            "text/plain": [
              "  State  Area code  ... Customer service calls  Churn\n",
              "0    KS        415  ...                      1  False\n",
              "1    OH        415  ...                      1  False\n",
              "2    NJ        415  ...                      0  False\n",
              "3    OH        408  ...                      2  False\n",
              "4    OK        415  ...                      3  False\n",
              "\n",
              "[5 rows x 19 columns]"
            ]
          },
          "metadata": {},
          "execution_count": 19
        }
      ]
    },
    {
      "cell_type": "markdown",
      "metadata": {
        "id": "xb-aNxKhqfjG"
      },
      "source": [
        "### **Univariate Analysis**"
      ]
    },
    {
      "cell_type": "code",
      "metadata": {
        "colab": {
          "base_uri": "https://localhost:8080/",
          "height": 374
        },
        "id": "EjstIQjWsIWn",
        "outputId": "c11d4c39-b435-4605-9861-9ecf51f1a719"
      },
      "source": [
        "###Univariate analysis\n",
        "#Box plot for Number voice mails messages\n",
        "fig = plt.figure(figsize =(8, 6)) \n",
        "telecom_df.boxplot(column =['Number vmail messages'])\n",
        "# show plot\n",
        "plt.show()"
      ],
      "execution_count": null,
      "outputs": [
        {
          "output_type": "display_data",
          "data": {
            "image/png": "[encoded data removed]",
            "text/plain": [
              "<Figure size 576x432 with 1 Axes>"
            ]
          },
          "metadata": {
            "needs_background": "light"
          }
        }
      ]
    },
    {
      "cell_type": "code",
      "metadata": {
        "colab": {
          "base_uri": "https://localhost:8080/",
          "height": 417
        },
        "id": "3rCqM6WE3h2l",
        "outputId": "db9d7519-2260-4aeb-dad4-09f1fde6a1e8"
      },
      "source": [
        "#Box plot on daily minutes,calls,charge\n",
        "fig = plt.figure(figsize =(8, 6)) \n",
        "telecom_df.boxplot(column =['Total day minutes', 'Total eve minutes', 'Total night minutes'])\n",
        "fig.suptitle('Minute call data', fontsize=14, fontweight='bold')\n",
        "plt.ylabel('Minutes')\n",
        "# show plot\n",
        "plt.show()"
      ],
      "execution_count": null,
      "outputs": [
        {
          "output_type": "display_data",
          "data": {
            "image/png": "[encoded data removed]",
            "text/plain": [
              "<Figure size 576x432 with 1 Axes>"
            ]
          },
          "metadata": {
            "needs_background": "light"
          }
        }
      ]
    },
    {
      "cell_type": "code",
      "metadata": {
        "colab": {
          "base_uri": "https://localhost:8080/",
          "height": 417
        },
        "id": "hwA8yd8m4Pte",
        "outputId": "922b40ea-23da-47f1-a288-5497837061d0"
      },
      "source": [
        "#Box plot on Total Calls\n",
        "fig = plt.figure(figsize =(8, 6)) \n",
        "telecom_df.boxplot(column =[ 'Total day calls','Total eve calls','Total night calls'])\n",
        "fig.suptitle('Total Calls', fontsize=14, fontweight='bold')\n",
        "plt.ylabel('Count')\n",
        "# show plot\n",
        "plt.show()"
      ],
      "execution_count": null,
      "outputs": [
        {
          "output_type": "display_data",
          "data": {
            "image/png": "[encoded data removed]",
            "text/plain": [
              "<Figure size 576x432 with 1 Axes>"
            ]
          },
          "metadata": {
            "needs_background": "light"
          }
        }
      ]
    },
    {
      "cell_type": "code",
      "metadata": {
        "colab": {
          "base_uri": "https://localhost:8080/",
          "height": 417
        },
        "id": "6i_AaQ4I68go",
        "outputId": "846d742a-fa99-463a-97aa-052d3984d6a6"
      },
      "source": [
        "#Box plot on Charges\n",
        "fig = plt.figure(figsize =(8, 6)) \n",
        "telecom_df.boxplot(column =[ 'Total day charge','Total eve charge','Total night charge'])\n",
        "fig.suptitle('Charge for calls', fontsize=14, fontweight='bold')\n",
        "plt.ylabel('Count')\n",
        "# show plot\n",
        "plt.show()"
      ],
      "execution_count": null,
      "outputs": [
        {
          "output_type": "display_data",
          "data": {
            "image/png": "[encoded data removed]",
            "text/plain": [
              "<Figure size 576x432 with 1 Axes>"
            ]
          },
          "metadata": {
            "needs_background": "light"
          }
        }
      ]
    },
    {
      "cell_type": "code",
      "metadata": {
        "colab": {
          "base_uri": "https://localhost:8080/",
          "height": 417
        },
        "id": "maJ6aA8b7jIT",
        "outputId": "6e5b1e86-b128-4964-d1d3-8d293664f847"
      },
      "source": [
        "#Box plot on International calls\n",
        "fig = plt.figure(figsize =(8, 6)) \n",
        "telecom_df.boxplot(column =['Total intl minutes','Total intl calls','Total intl charge'])\n",
        "fig.suptitle('International call data', fontsize=14, fontweight='bold')\n",
        "plt.ylabel('Values')\n",
        "# show plot\n",
        "plt.show()"
      ],
      "execution_count": null,
      "outputs": [
        {
          "output_type": "display_data",
          "data": {
            "image/png": "[encoded data removed]",
            "text/plain": [
              "<Figure size 576x432 with 1 Axes>"
            ]
          },
          "metadata": {
            "needs_background": "light"
          }
        }
      ]
    },
    {
      "cell_type": "code",
      "metadata": {
        "colab": {
          "base_uri": "https://localhost:8080/",
          "height": 417
        },
        "id": "_Jo14ztE9-0v",
        "outputId": "2491a3ad-32b2-4d1a-9b45-999eec1ba803"
      },
      "source": [
        "#Box plot on Customer service calls\n",
        "fig = plt.figure(figsize =(8, 6)) \n",
        "telecom_df.boxplot(column =['Customer service calls'])\n",
        "fig.suptitle('Customer service calls', fontsize=14, fontweight='bold')\n",
        "plt.ylabel('Values')\n",
        "# show plot\n",
        "plt.show()"
      ],
      "execution_count": null,
      "outputs": [
        {
          "output_type": "display_data",
          "data": {
            "image/png": "[encoded data removed]",
            "text/plain": [
              "<Figure size 576x432 with 1 Axes>"
            ]
          },
          "metadata": {
            "needs_background": "light"
          }
        }
      ]
    },
    {
      "cell_type": "markdown",
      "metadata": {
        "id": "CQ2wIKLeolP7"
      },
      "source": [
        "## **Bivariate analysis**"
      ]
    },
    {
      "cell_type": "code",
      "metadata": {
        "colab": {
          "base_uri": "https://localhost:8080/",
          "height": 503
        },
        "id": "1TiN5t1UgTxg",
        "outputId": "3629774f-68df-47df-d3c0-792749315694"
      },
      "source": [
        "#To get the churn state wise\n",
        "sns.set(style=\"darkgrid\")\n",
        "plt.figure(figsize=(15,8))\n",
        "ax = sns.countplot(x='State', hue=\"Churn\", data=telecom_df)\n",
        "plt.show()"
      ],
      "execution_count": null,
      "outputs": [
        {
          "output_type": "display_data",
          "data": {
            "image/png": "[encoded data removed]",
            "text/plain": [
              "<Figure size 1080x576 with 1 Axes>"
            ]
          },
          "metadata": {}
        }
      ]
    },
    {
      "cell_type": "code",
      "metadata": {
        "colab": {
          "base_uri": "https://localhost:8080/",
          "height": 285
        },
        "id": "RKBJEhmibns1",
        "outputId": "a06d98ec-cae9-492f-c107-07304322b5d8"
      },
      "source": [
        "#Compare the churn with area code\n",
        "sns.set(style=\"darkgrid\")\n",
        "ax = sns.countplot(x='Area code', hue=\"Churn\", data=telecom_df)\n",
        "plt.show()"
      ],
      "execution_count": null,
      "outputs": [
        {
          "output_type": "display_data",
          "data": {
            "image/png": "[encoded data removed]",
            "text/plain": [
              "<Figure size 432x288 with 1 Axes>"
            ]
          },
          "metadata": {}
        }
      ]
    },
    {
      "cell_type": "code",
      "metadata": {
        "id": "PN0yE6hXkuJY"
      },
      "source": [
        ""
      ],
      "execution_count": null,
      "outputs": []
    },
    {
      "cell_type": "code",
      "metadata": {
        "colab": {
          "base_uri": "https://localhost:8080/",
          "height": 377
        },
        "id": "wSl5DlG-knTG",
        "outputId": "091b790d-02e8-4a77-b06a-783ad760538e"
      },
      "source": [
        "fig = plt.figure(figsize =(10, 8)) \n",
        "telecom_df.boxplot(column='Number vmail messages', by='Churn')\n",
        "fig.suptitle('Number vmail message', fontsize=14, fontweight='bold')\n",
        "plt.show()"
      ],
      "execution_count": null,
      "outputs": [
        {
          "output_type": "stream",
          "name": "stderr",
          "text": [
            "/usr/local/lib/python3.7/dist-packages/numpy/core/_asarray.py:83: VisibleDeprecationWarning: Creating an ndarray from ragged nested sequences (which is a list-or-tuple of lists-or-tuples-or ndarrays with different lengths or shapes) is deprecated. If you meant to do this, you must specify 'dtype=object' when creating the ndarray\n",
            "  return array(a, dtype, copy=False, order=order)\n"
          ]
        },
        {
          "output_type": "display_data",
          "data": {
            "text/plain": [
              "<Figure size 720x576 with 0 Axes>"
            ]
          },
          "metadata": {}
        },
        {
          "output_type": "display_data",
          "data": {
            "image/png": "[encoded data removed]",
            "text/plain": [
              "<Figure size 432x288 with 1 Axes>"
            ]
          },
          "metadata": {}
        }
      ]
    },
    {
      "cell_type": "code",
      "metadata": {
        "colab": {
          "base_uri": "https://localhost:8080/",
          "height": 377
        },
        "id": "XjmQPtcQmI52",
        "outputId": "b1eae6ee-5762-47fa-b40d-fee92c80b1d1"
      },
      "source": [
        "telecom_df_new.boxplot(column='Total day minutes', by='Churn')\n",
        "plt.show()"
      ],
      "execution_count": null,
      "outputs": [
        {
          "output_type": "stream",
          "name": "stderr",
          "text": [
            "/usr/local/lib/python3.7/dist-packages/numpy/core/_asarray.py:83: VisibleDeprecationWarning: Creating an ndarray from ragged nested sequences (which is a list-or-tuple of lists-or-tuples-or ndarrays with different lengths or shapes) is deprecated. If you meant to do this, you must specify 'dtype=object' when creating the ndarray\n",
            "  return array(a, dtype, copy=False, order=order)\n"
          ]
        },
        {
          "output_type": "execute_result",
          "data": {
            "text/plain": [
              "<matplotlib.axes._subplots.AxesSubplot at 0x7fd2e66ecb50>"
            ]
          },
          "metadata": {},
          "execution_count": 30
        },
        {
          "output_type": "display_data",
          "data": {
            "image/png": "[encoded data removed]",
            "text/plain": [
              "<Figure size 432x288 with 1 Axes>"
            ]
          },
          "metadata": {}
        }
      ]
    },
    {
      "cell_type": "code",
      "metadata": {
        "colab": {
          "base_uri": "https://localhost:8080/",
          "height": 377
        },
        "id": "2PZB1AV7mJ8z",
        "outputId": "371a4838-4b35-4a51-bb41-3874a658b210"
      },
      "source": [
        "plt.show()\n",
        "telecom_df_new.boxplot(column='Total day calls', by='Churn')"
      ],
      "execution_count": null,
      "outputs": [
        {
          "output_type": "stream",
          "name": "stderr",
          "text": [
            "/usr/local/lib/python3.7/dist-packages/numpy/core/_asarray.py:83: VisibleDeprecationWarning: Creating an ndarray from ragged nested sequences (which is a list-or-tuple of lists-or-tuples-or ndarrays with different lengths or shapes) is deprecated. If you meant to do this, you must specify 'dtype=object' when creating the ndarray\n",
            "  return array(a, dtype, copy=False, order=order)\n"
          ]
        },
        {
          "output_type": "execute_result",
          "data": {
            "text/plain": [
              "<matplotlib.axes._subplots.AxesSubplot at 0x7f4f51ab3490>"
            ]
          },
          "metadata": {},
          "execution_count": 71
        },
        {
          "output_type": "display_data",
          "data": {
            "image/png": "[encoded data removed]",
            "text/plain": [
              "<Figure size 432x288 with 1 Axes>"
            ]
          },
          "metadata": {}
        }
      ]
    },
    {
      "cell_type": "code",
      "metadata": {
        "colab": {
          "base_uri": "https://localhost:8080/",
          "height": 377
        },
        "id": "UUJ-Oo-KmKig",
        "outputId": "fe005a4e-61c8-4a3c-fdcf-2e7b0bb370a0"
      },
      "source": [
        "plt.show()\n",
        "telecom_df_new.boxplot(column='Total day charge', by='Churn')"
      ],
      "execution_count": null,
      "outputs": [
        {
          "output_type": "stream",
          "name": "stderr",
          "text": [
            "/usr/local/lib/python3.7/dist-packages/numpy/core/_asarray.py:83: VisibleDeprecationWarning: Creating an ndarray from ragged nested sequences (which is a list-or-tuple of lists-or-tuples-or ndarrays with different lengths or shapes) is deprecated. If you meant to do this, you must specify 'dtype=object' when creating the ndarray\n",
            "  return array(a, dtype, copy=False, order=order)\n"
          ]
        },
        {
          "output_type": "execute_result",
          "data": {
            "text/plain": [
              "<matplotlib.axes._subplots.AxesSubplot at 0x7f4f51b6ea90>"
            ]
          },
          "metadata": {},
          "execution_count": 72
        },
        {
          "output_type": "display_data",
          "data": {
            "image/png": "[encoded data removed]",
            "text/plain": [
              "<Figure size 432x288 with 1 Axes>"
            ]
          },
          "metadata": {}
        }
      ]
    },
    {
      "cell_type": "code",
      "metadata": {
        "colab": {
          "base_uri": "https://localhost:8080/",
          "height": 377
        },
        "id": "0nLH3C5WmK3o",
        "outputId": "616b8c73-3c96-40c8-dcaa-3d813696aaf7"
      },
      "source": [
        "plt.show()\n",
        "telecom_df_new.boxplot(column='Total eve minutes', by='Churn')"
      ],
      "execution_count": null,
      "outputs": [
        {
          "output_type": "stream",
          "name": "stderr",
          "text": [
            "/usr/local/lib/python3.7/dist-packages/numpy/core/_asarray.py:83: VisibleDeprecationWarning: Creating an ndarray from ragged nested sequences (which is a list-or-tuple of lists-or-tuples-or ndarrays with different lengths or shapes) is deprecated. If you meant to do this, you must specify 'dtype=object' when creating the ndarray\n",
            "  return array(a, dtype, copy=False, order=order)\n"
          ]
        },
        {
          "output_type": "execute_result",
          "data": {
            "text/plain": [
              "<matplotlib.axes._subplots.AxesSubplot at 0x7f4f51945750>"
            ]
          },
          "metadata": {},
          "execution_count": 73
        },
        {
          "output_type": "display_data",
          "data": {
            "image/png": "[encoded data removed]",
            "text/plain": [
              "<Figure size 432x288 with 1 Axes>"
            ]
          },
          "metadata": {}
        }
      ]
    },
    {
      "cell_type": "code",
      "metadata": {
        "colab": {
          "base_uri": "https://localhost:8080/",
          "height": 377
        },
        "id": "1TkU4JugmLMm",
        "outputId": "fde89098-b2b1-4c1a-9328-12cb06bc456b"
      },
      "source": [
        "plt.show()\n",
        "telecom_df_new.boxplot(column='Total eve calls', by='Churn')"
      ],
      "execution_count": null,
      "outputs": [
        {
          "output_type": "stream",
          "name": "stderr",
          "text": [
            "/usr/local/lib/python3.7/dist-packages/numpy/core/_asarray.py:83: VisibleDeprecationWarning: Creating an ndarray from ragged nested sequences (which is a list-or-tuple of lists-or-tuples-or ndarrays with different lengths or shapes) is deprecated. If you meant to do this, you must specify 'dtype=object' when creating the ndarray\n",
            "  return array(a, dtype, copy=False, order=order)\n"
          ]
        },
        {
          "output_type": "execute_result",
          "data": {
            "text/plain": [
              "<matplotlib.axes._subplots.AxesSubplot at 0x7f4f518c8c90>"
            ]
          },
          "metadata": {},
          "execution_count": 74
        },
        {
          "output_type": "display_data",
          "data": {
            "image/png": "[encoded data removed]",
            "text/plain": [
              "<Figure size 432x288 with 1 Axes>"
            ]
          },
          "metadata": {}
        }
      ]
    },
    {
      "cell_type": "code",
      "metadata": {
        "colab": {
          "base_uri": "https://localhost:8080/",
          "height": 377
        },
        "id": "STkq0T6mmLfs",
        "outputId": "d633f49d-d685-45c7-f478-2ce8d5a4d8c0"
      },
      "source": [
        "plt.show()\n",
        "telecom_df_new.boxplot(column='Total eve charge', by='Churn')"
      ],
      "execution_count": null,
      "outputs": [
        {
          "output_type": "stream",
          "name": "stderr",
          "text": [
            "/usr/local/lib/python3.7/dist-packages/numpy/core/_asarray.py:83: VisibleDeprecationWarning: Creating an ndarray from ragged nested sequences (which is a list-or-tuple of lists-or-tuples-or ndarrays with different lengths or shapes) is deprecated. If you meant to do this, you must specify 'dtype=object' when creating the ndarray\n",
            "  return array(a, dtype, copy=False, order=order)\n"
          ]
        },
        {
          "output_type": "execute_result",
          "data": {
            "text/plain": [
              "<matplotlib.axes._subplots.AxesSubplot at 0x7f4f519c8dd0>"
            ]
          },
          "metadata": {},
          "execution_count": 75
        },
        {
          "output_type": "display_data",
          "data": {
            "image/png": "[encoded data removed]",
            "text/plain": [
              "<Figure size 432x288 with 1 Axes>"
            ]
          },
          "metadata": {}
        }
      ]
    },
    {
      "cell_type": "code",
      "metadata": {
        "colab": {
          "base_uri": "https://localhost:8080/",
          "height": 377
        },
        "id": "CDE5dTldmoPw",
        "outputId": "58694725-f96a-4a04-99c6-8a8a1e7a8372"
      },
      "source": [
        "plt.show()\n",
        "telecom_df_new.boxplot(column='Total night minutes', by='Churn')"
      ],
      "execution_count": null,
      "outputs": [
        {
          "output_type": "stream",
          "name": "stderr",
          "text": [
            "/usr/local/lib/python3.7/dist-packages/numpy/core/_asarray.py:83: VisibleDeprecationWarning: Creating an ndarray from ragged nested sequences (which is a list-or-tuple of lists-or-tuples-or ndarrays with different lengths or shapes) is deprecated. If you meant to do this, you must specify 'dtype=object' when creating the ndarray\n",
            "  return array(a, dtype, copy=False, order=order)\n"
          ]
        },
        {
          "output_type": "execute_result",
          "data": {
            "text/plain": [
              "<matplotlib.axes._subplots.AxesSubplot at 0x7f4f517d6d90>"
            ]
          },
          "metadata": {},
          "execution_count": 76
        },
        {
          "output_type": "display_data",
          "data": {
            "image/png": "[encoded data removed]",
            "text/plain": [
              "<Figure size 432x288 with 1 Axes>"
            ]
          },
          "metadata": {}
        }
      ]
    },
    {
      "cell_type": "code",
      "metadata": {
        "colab": {
          "base_uri": "https://localhost:8080/",
          "height": 377
        },
        "id": "ajGybxO9mobC",
        "outputId": "481cb55e-a940-4e0b-a05d-09fbc6d9c5c3"
      },
      "source": [
        "plt.show()\n",
        "telecom_df_new.boxplot(column='Total night calls', by='Churn')"
      ],
      "execution_count": null,
      "outputs": [
        {
          "output_type": "stream",
          "name": "stderr",
          "text": [
            "/usr/local/lib/python3.7/dist-packages/numpy/core/_asarray.py:83: VisibleDeprecationWarning: Creating an ndarray from ragged nested sequences (which is a list-or-tuple of lists-or-tuples-or ndarrays with different lengths or shapes) is deprecated. If you meant to do this, you must specify 'dtype=object' when creating the ndarray\n",
            "  return array(a, dtype, copy=False, order=order)\n"
          ]
        },
        {
          "output_type": "execute_result",
          "data": {
            "text/plain": [
              "<matplotlib.axes._subplots.AxesSubplot at 0x7f4f51b3ae50>"
            ]
          },
          "metadata": {},
          "execution_count": 77
        },
        {
          "output_type": "display_data",
          "data": {
            "image/png": "[encoded data removed]",
            "text/plain": [
              "<Figure size 432x288 with 1 Axes>"
            ]
          },
          "metadata": {}
        }
      ]
    },
    {
      "cell_type": "code",
      "metadata": {
        "colab": {
          "base_uri": "https://localhost:8080/",
          "height": 377
        },
        "id": "Ny3Qf0nYmooD",
        "outputId": "d5f423a3-c902-4230-8400-191483cfc0bf"
      },
      "source": [
        "plt.show()\n",
        "telecom_df_new.boxplot(column='Total night charge', by='Churn')"
      ],
      "execution_count": null,
      "outputs": [
        {
          "output_type": "stream",
          "name": "stderr",
          "text": [
            "/usr/local/lib/python3.7/dist-packages/numpy/core/_asarray.py:83: VisibleDeprecationWarning: Creating an ndarray from ragged nested sequences (which is a list-or-tuple of lists-or-tuples-or ndarrays with different lengths or shapes) is deprecated. If you meant to do this, you must specify 'dtype=object' when creating the ndarray\n",
            "  return array(a, dtype, copy=False, order=order)\n"
          ]
        },
        {
          "output_type": "execute_result",
          "data": {
            "text/plain": [
              "<matplotlib.axes._subplots.AxesSubplot at 0x7f4f517b4d50>"
            ]
          },
          "metadata": {},
          "execution_count": 78
        },
        {
          "output_type": "display_data",
          "data": {
            "image/png": "[encoded data removed]",
            "text/plain": [
              "<Figure size 432x288 with 1 Axes>"
            ]
          },
          "metadata": {}
        }
      ]
    },
    {
      "cell_type": "code",
      "metadata": {
        "colab": {
          "base_uri": "https://localhost:8080/",
          "height": 377
        },
        "id": "2kPNAj1Wm-oM",
        "outputId": "e850afeb-e6b4-4634-9427-d676c914e253"
      },
      "source": [
        "plt.show()\n",
        "telecom_df_new.boxplot(column='Total intl minutes', by='Churn')"
      ],
      "execution_count": null,
      "outputs": [
        {
          "output_type": "stream",
          "name": "stderr",
          "text": [
            "/usr/local/lib/python3.7/dist-packages/numpy/core/_asarray.py:83: VisibleDeprecationWarning: Creating an ndarray from ragged nested sequences (which is a list-or-tuple of lists-or-tuples-or ndarrays with different lengths or shapes) is deprecated. If you meant to do this, you must specify 'dtype=object' when creating the ndarray\n",
            "  return array(a, dtype, copy=False, order=order)\n"
          ]
        },
        {
          "output_type": "execute_result",
          "data": {
            "text/plain": [
              "<matplotlib.axes._subplots.AxesSubplot at 0x7f4f5164bd10>"
            ]
          },
          "metadata": {},
          "execution_count": 79
        },
        {
          "output_type": "display_data",
          "data": {
            "image/png": "[encoded data removed]",
            "text/plain": [
              "<Figure size 432x288 with 1 Axes>"
            ]
          },
          "metadata": {}
        }
      ]
    },
    {
      "cell_type": "code",
      "metadata": {
        "colab": {
          "base_uri": "https://localhost:8080/",
          "height": 377
        },
        "id": "6juCnr13m-xk",
        "outputId": "4e158715-c2ae-4a79-ee4c-46f5c9e020c0"
      },
      "source": [
        "plt.show()\n",
        "telecom_df_new.boxplot(column='Total intl calls', by='Churn')"
      ],
      "execution_count": null,
      "outputs": [
        {
          "output_type": "stream",
          "name": "stderr",
          "text": [
            "/usr/local/lib/python3.7/dist-packages/numpy/core/_asarray.py:83: VisibleDeprecationWarning: Creating an ndarray from ragged nested sequences (which is a list-or-tuple of lists-or-tuples-or ndarrays with different lengths or shapes) is deprecated. If you meant to do this, you must specify 'dtype=object' when creating the ndarray\n",
            "  return array(a, dtype, copy=False, order=order)\n"
          ]
        },
        {
          "output_type": "execute_result",
          "data": {
            "text/plain": [
              "<matplotlib.axes._subplots.AxesSubplot at 0x7f4f515e1fd0>"
            ]
          },
          "metadata": {},
          "execution_count": 80
        },
        {
          "output_type": "display_data",
          "data": {
            "image/png": "[encoded data removed]",
            "text/plain": [
              "<Figure size 432x288 with 1 Axes>"
            ]
          },
          "metadata": {}
        }
      ]
    },
    {
      "cell_type": "code",
      "metadata": {
        "colab": {
          "base_uri": "https://localhost:8080/",
          "height": 377
        },
        "id": "pLsbWSqum-4-",
        "outputId": "75208ed1-8b25-4409-ad43-c46398c71e9d"
      },
      "source": [
        "plt.show()\n",
        "telecom_df_new.boxplot(column='Total intl charge', by='Churn')"
      ],
      "execution_count": null,
      "outputs": [
        {
          "output_type": "stream",
          "name": "stderr",
          "text": [
            "/usr/local/lib/python3.7/dist-packages/numpy/core/_asarray.py:83: VisibleDeprecationWarning: Creating an ndarray from ragged nested sequences (which is a list-or-tuple of lists-or-tuples-or ndarrays with different lengths or shapes) is deprecated. If you meant to do this, you must specify 'dtype=object' when creating the ndarray\n",
            "  return array(a, dtype, copy=False, order=order)\n"
          ]
        },
        {
          "output_type": "execute_result",
          "data": {
            "text/plain": [
              "<matplotlib.axes._subplots.AxesSubplot at 0x7f4f51705710>"
            ]
          },
          "metadata": {},
          "execution_count": 81
        },
        {
          "output_type": "display_data",
          "data": {
            "image/png": "[encoded data removed]",
            "text/plain": [
              "<Figure size 432x288 with 1 Axes>"
            ]
          },
          "metadata": {}
        }
      ]
    },
    {
      "cell_type": "code",
      "metadata": {
        "colab": {
          "base_uri": "https://localhost:8080/",
          "height": 360
        },
        "id": "Eiv6tNWxnaIA",
        "outputId": "5cce1c3e-1a78-409f-8d65-6381475e36c2"
      },
      "source": [
        "#Relation between Churn and Customer service calls\n",
        "telecom_df_new.boxplot(column='Customer service calls', by='Churn')\n",
        "plt.show()"
      ],
      "execution_count": null,
      "outputs": [
        {
          "output_type": "stream",
          "name": "stderr",
          "text": [
            "/usr/local/lib/python3.7/dist-packages/numpy/core/_asarray.py:83: VisibleDeprecationWarning: Creating an ndarray from ragged nested sequences (which is a list-or-tuple of lists-or-tuples-or ndarrays with different lengths or shapes) is deprecated. If you meant to do this, you must specify 'dtype=object' when creating the ndarray\n",
            "  return array(a, dtype, copy=False, order=order)\n"
          ]
        },
        {
          "output_type": "display_data",
          "data": {
            "image/png": "[encoded data removed]",
            "text/plain": [
              "<Figure size 432x288 with 1 Axes>"
            ]
          },
          "metadata": {}
        }
      ]
    },
    {
      "cell_type": "code",
      "metadata": {
        "colab": {
          "base_uri": "https://localhost:8080/",
          "height": 285
        },
        "id": "s9k7ZEeKoOeq",
        "outputId": "028fc35c-5b58-4b18-c9a7-ac93b5580bb8"
      },
      "source": [
        "sns.set(style=\"darkgrid\")\n",
        "ax = sns.countplot(x='Customer service calls', hue=\"Churn\", data=telecom_df)\n",
        "plt.show()"
      ],
      "execution_count": null,
      "outputs": [
        {
          "output_type": "display_data",
          "data": {
            "image/png": "[encoded data removed]",
            "text/plain": [
              "<Figure size 432x288 with 1 Axes>"
            ]
          },
          "metadata": {}
        }
      ]
    },
    {
      "cell_type": "markdown",
      "metadata": {
        "id": "Yj1T8RNzo8fL"
      },
      "source": [
        "### **Multi variate analysis**"
      ]
    },
    {
      "cell_type": "code",
      "metadata": {
        "id": "wQgenO6Hp1X2"
      },
      "source": [
        "#Assigning true=1 and False=0 to churn variable\n",
        "telecom_df['Churn'] = telecom_df['Churn'].replace({bool(True):1,bool(False):0})"
      ],
      "execution_count": null,
      "outputs": []
    },
    {
      "cell_type": "code",
      "metadata": {
        "colab": {
          "base_uri": "https://localhost:8080/",
          "height": 851
        },
        "id": "IMwkM58oo3xr",
        "outputId": "c967e277-276e-4051-a2bc-d4bb4f6620a8"
      },
      "source": [
        "plt.figure(figsize=(12,12))\n",
        "sns.heatmap(telecom_df.corr(), cmap=\"Paired\",annot=False)"
      ],
      "execution_count": null,
      "outputs": [
        {
          "output_type": "execute_result",
          "data": {
            "text/plain": [
              "<matplotlib.axes._subplots.AxesSubplot at 0x7fd2e620a3d0>"
            ]
          },
          "metadata": {},
          "execution_count": 37
        },
        {
          "output_type": "display_data",
          "data": {
            "image/png": "[encoded data removed]",
            "text/plain": [
              "<Figure size 864x864 with 2 Axes>"
            ]
          },
          "metadata": {}
        }
      ]
    },
    {
      "cell_type": "code",
      "metadata": {
        "colab": {
          "base_uri": "https://localhost:8080/",
          "height": 775
        },
        "id": "ajawl8mJr6NJ",
        "outputId": "eb651600-7e57-4f99-add0-38643c195dca"
      },
      "source": [
        "corr = telecom_df.corr()\n",
        "corr.style.background_gradient(cmap='coolwarm')"
      ],
      "execution_count": null,
      "outputs": [
        {
          "output_type": "execute_result",
          "data": {
            "text/html": [
              "<style  type=\"text/css\" >\n",
              "#T_4601161a_1d55_11ec_b946_0242ac1c0002row0_col0,#T_4601161a_1d55_11ec_b946_0242ac1c0002row1_col1,#T_4601161a_1d55_11ec_b946_0242ac1c0002row2_col2,#T_4601161a_1d55_11ec_b946_0242ac1c0002row3_col3,#T_4601161a_1d55_11ec_b946_0242ac1c0002row3_col5,#T_4601161a_1d55_11ec_b946_0242ac1c0002row4_col4,#T_4601161a_1d55_11ec_b946_0242ac1c0002row5_col3,#T_4601161a_1d55_11ec_b946_0242ac1c0002row5_col5,#T_4601161a_1d55_11ec_b946_0242ac1c0002row6_col6,#T_4601161a_1d55_11ec_b946_0242ac1c0002row6_col8,#T_4601161a_1d55_11ec_b946_0242ac1c0002row7_col7,#T_4601161a_1d55_11ec_b946_0242ac1c0002row8_col6,#T_4601161a_1d55_11ec_b946_0242ac1c0002row8_col8,#T_4601161a_1d55_11ec_b946_0242ac1c0002row9_col9,#T_4601161a_1d55_11ec_b946_0242ac1c0002row9_col11,#T_4601161a_1d55_11ec_b946_0242ac1c0002row10_col10,#T_4601161a_1d55_11ec_b946_0242ac1c0002row11_col9,#T_4601161a_1d55_11ec_b946_0242ac1c0002row11_col11,#T_4601161a_1d55_11ec_b946_0242ac1c0002row12_col12,#T_4601161a_1d55_11ec_b946_0242ac1c0002row12_col14,#T_4601161a_1d55_11ec_b946_0242ac1c0002row13_col13,#T_4601161a_1d55_11ec_b946_0242ac1c0002row14_col12,#T_4601161a_1d55_11ec_b946_0242ac1c0002row14_col14,#T_4601161a_1d55_11ec_b946_0242ac1c0002row15_col15,#T_4601161a_1d55_11ec_b946_0242ac1c0002row16_col16{\n",
              "            background-color:  #b40426;\n",
              "            color:  #f1f1f1;\n",
              "        }#T_4601161a_1d55_11ec_b946_0242ac1c0002row0_col1,#T_4601161a_1d55_11ec_b946_0242ac1c0002row1_col4,#T_4601161a_1d55_11ec_b946_0242ac1c0002row1_col9,#T_4601161a_1d55_11ec_b946_0242ac1c0002row1_col11,#T_4601161a_1d55_11ec_b946_0242ac1c0002row2_col0,#T_4601161a_1d55_11ec_b946_0242ac1c0002row2_col4,#T_4601161a_1d55_11ec_b946_0242ac1c0002row3_col12,#T_4601161a_1d55_11ec_b946_0242ac1c0002row3_col14,#T_4601161a_1d55_11ec_b946_0242ac1c0002row5_col12,#T_4601161a_1d55_11ec_b946_0242ac1c0002row5_col14,#T_4601161a_1d55_11ec_b946_0242ac1c0002row7_col6,#T_4601161a_1d55_11ec_b946_0242ac1c0002row7_col8,#T_4601161a_1d55_11ec_b946_0242ac1c0002row9_col6,#T_4601161a_1d55_11ec_b946_0242ac1c0002row9_col7,#T_4601161a_1d55_11ec_b946_0242ac1c0002row9_col8,#T_4601161a_1d55_11ec_b946_0242ac1c0002row9_col15,#T_4601161a_1d55_11ec_b946_0242ac1c0002row11_col6,#T_4601161a_1d55_11ec_b946_0242ac1c0002row11_col7,#T_4601161a_1d55_11ec_b946_0242ac1c0002row11_col8,#T_4601161a_1d55_11ec_b946_0242ac1c0002row11_col15,#T_4601161a_1d55_11ec_b946_0242ac1c0002row12_col6,#T_4601161a_1d55_11ec_b946_0242ac1c0002row12_col8,#T_4601161a_1d55_11ec_b946_0242ac1c0002row12_col15,#T_4601161a_1d55_11ec_b946_0242ac1c0002row14_col6,#T_4601161a_1d55_11ec_b946_0242ac1c0002row14_col8,#T_4601161a_1d55_11ec_b946_0242ac1c0002row14_col15,#T_4601161a_1d55_11ec_b946_0242ac1c0002row15_col0,#T_4601161a_1d55_11ec_b946_0242ac1c0002row15_col6,#T_4601161a_1d55_11ec_b946_0242ac1c0002row15_col8,#T_4601161a_1d55_11ec_b946_0242ac1c0002row15_col12,#T_4601161a_1d55_11ec_b946_0242ac1c0002row15_col14{\n",
              "            background-color:  #3d50c3;\n",
              "            color:  #f1f1f1;\n",
              "        }#T_4601161a_1d55_11ec_b946_0242ac1c0002row0_col2,#T_4601161a_1d55_11ec_b946_0242ac1c0002row7_col2{\n",
              "            background-color:  #516ddb;\n",
              "            color:  #000000;\n",
              "        }#T_4601161a_1d55_11ec_b946_0242ac1c0002row0_col3,#T_4601161a_1d55_11ec_b946_0242ac1c0002row0_col5,#T_4601161a_1d55_11ec_b946_0242ac1c0002row3_col0,#T_4601161a_1d55_11ec_b946_0242ac1c0002row3_col9,#T_4601161a_1d55_11ec_b946_0242ac1c0002row3_col11,#T_4601161a_1d55_11ec_b946_0242ac1c0002row4_col7,#T_4601161a_1d55_11ec_b946_0242ac1c0002row5_col0,#T_4601161a_1d55_11ec_b946_0242ac1c0002row5_col9,#T_4601161a_1d55_11ec_b946_0242ac1c0002row5_col11,#T_4601161a_1d55_11ec_b946_0242ac1c0002row9_col1,#T_4601161a_1d55_11ec_b946_0242ac1c0002row9_col3,#T_4601161a_1d55_11ec_b946_0242ac1c0002row9_col5,#T_4601161a_1d55_11ec_b946_0242ac1c0002row10_col7,#T_4601161a_1d55_11ec_b946_0242ac1c0002row11_col1,#T_4601161a_1d55_11ec_b946_0242ac1c0002row11_col3,#T_4601161a_1d55_11ec_b946_0242ac1c0002row11_col5,#T_4601161a_1d55_11ec_b946_0242ac1c0002row13_col10{\n",
              "            background-color:  #3f53c6;\n",
              "            color:  #f1f1f1;\n",
              "        }#T_4601161a_1d55_11ec_b946_0242ac1c0002row0_col4{\n",
              "            background-color:  #4c66d6;\n",
              "            color:  #000000;\n",
              "        }#T_4601161a_1d55_11ec_b946_0242ac1c0002row0_col6,#T_4601161a_1d55_11ec_b946_0242ac1c0002row0_col8,#T_4601161a_1d55_11ec_b946_0242ac1c0002row0_col15,#T_4601161a_1d55_11ec_b946_0242ac1c0002row2_col3,#T_4601161a_1d55_11ec_b946_0242ac1c0002row2_col5,#T_4601161a_1d55_11ec_b946_0242ac1c0002row3_col1,#T_4601161a_1d55_11ec_b946_0242ac1c0002row4_col1,#T_4601161a_1d55_11ec_b946_0242ac1c0002row5_col1,#T_4601161a_1d55_11ec_b946_0242ac1c0002row7_col1,#T_4601161a_1d55_11ec_b946_0242ac1c0002row7_col9,#T_4601161a_1d55_11ec_b946_0242ac1c0002row7_col11,#T_4601161a_1d55_11ec_b946_0242ac1c0002row15_col7{\n",
              "            background-color:  #3e51c5;\n",
              "            color:  #f1f1f1;\n",
              "        }#T_4601161a_1d55_11ec_b946_0242ac1c0002row0_col7,#T_4601161a_1d55_11ec_b946_0242ac1c0002row0_col14,#T_4601161a_1d55_11ec_b946_0242ac1c0002row3_col4,#T_4601161a_1d55_11ec_b946_0242ac1c0002row3_col6,#T_4601161a_1d55_11ec_b946_0242ac1c0002row3_col8,#T_4601161a_1d55_11ec_b946_0242ac1c0002row5_col4,#T_4601161a_1d55_11ec_b946_0242ac1c0002row5_col6,#T_4601161a_1d55_11ec_b946_0242ac1c0002row5_col8,#T_4601161a_1d55_11ec_b946_0242ac1c0002row7_col3,#T_4601161a_1d55_11ec_b946_0242ac1c0002row7_col5,#T_4601161a_1d55_11ec_b946_0242ac1c0002row9_col10,#T_4601161a_1d55_11ec_b946_0242ac1c0002row10_col6,#T_4601161a_1d55_11ec_b946_0242ac1c0002row10_col8,#T_4601161a_1d55_11ec_b946_0242ac1c0002row11_col10,#T_4601161a_1d55_11ec_b946_0242ac1c0002row13_col7,#T_4601161a_1d55_11ec_b946_0242ac1c0002row16_col0,#T_4601161a_1d55_11ec_b946_0242ac1c0002row16_col1{\n",
              "            background-color:  #4358cb;\n",
              "            color:  #f1f1f1;\n",
              "        }#T_4601161a_1d55_11ec_b946_0242ac1c0002row0_col9,#T_4601161a_1d55_11ec_b946_0242ac1c0002row0_col10,#T_4601161a_1d55_11ec_b946_0242ac1c0002row0_col11,#T_4601161a_1d55_11ec_b946_0242ac1c0002row1_col3,#T_4601161a_1d55_11ec_b946_0242ac1c0002row1_col5,#T_4601161a_1d55_11ec_b946_0242ac1c0002row2_col7,#T_4601161a_1d55_11ec_b946_0242ac1c0002row2_col15,#T_4601161a_1d55_11ec_b946_0242ac1c0002row3_col15,#T_4601161a_1d55_11ec_b946_0242ac1c0002row5_col15,#T_4601161a_1d55_11ec_b946_0242ac1c0002row6_col0,#T_4601161a_1d55_11ec_b946_0242ac1c0002row6_col12,#T_4601161a_1d55_11ec_b946_0242ac1c0002row6_col14,#T_4601161a_1d55_11ec_b946_0242ac1c0002row6_col15,#T_4601161a_1d55_11ec_b946_0242ac1c0002row8_col0,#T_4601161a_1d55_11ec_b946_0242ac1c0002row8_col12,#T_4601161a_1d55_11ec_b946_0242ac1c0002row8_col14,#T_4601161a_1d55_11ec_b946_0242ac1c0002row8_col15,#T_4601161a_1d55_11ec_b946_0242ac1c0002row9_col0,#T_4601161a_1d55_11ec_b946_0242ac1c0002row10_col12,#T_4601161a_1d55_11ec_b946_0242ac1c0002row10_col14,#T_4601161a_1d55_11ec_b946_0242ac1c0002row10_col15,#T_4601161a_1d55_11ec_b946_0242ac1c0002row11_col0,#T_4601161a_1d55_11ec_b946_0242ac1c0002row12_col1,#T_4601161a_1d55_11ec_b946_0242ac1c0002row12_col10,#T_4601161a_1d55_11ec_b946_0242ac1c0002row14_col1,#T_4601161a_1d55_11ec_b946_0242ac1c0002row14_col10,#T_4601161a_1d55_11ec_b946_0242ac1c0002row15_col9,#T_4601161a_1d55_11ec_b946_0242ac1c0002row15_col10,#T_4601161a_1d55_11ec_b946_0242ac1c0002row15_col11{\n",
              "            background-color:  #3c4ec2;\n",
              "            color:  #f1f1f1;\n",
              "        }#T_4601161a_1d55_11ec_b946_0242ac1c0002row0_col12,#T_4601161a_1d55_11ec_b946_0242ac1c0002row1_col6,#T_4601161a_1d55_11ec_b946_0242ac1c0002row1_col8,#T_4601161a_1d55_11ec_b946_0242ac1c0002row1_col13,#T_4601161a_1d55_11ec_b946_0242ac1c0002row2_col10,#T_4601161a_1d55_11ec_b946_0242ac1c0002row3_col7,#T_4601161a_1d55_11ec_b946_0242ac1c0002row5_col7,#T_4601161a_1d55_11ec_b946_0242ac1c0002row6_col1,#T_4601161a_1d55_11ec_b946_0242ac1c0002row6_col10,#T_4601161a_1d55_11ec_b946_0242ac1c0002row7_col4,#T_4601161a_1d55_11ec_b946_0242ac1c0002row7_col10,#T_4601161a_1d55_11ec_b946_0242ac1c0002row7_col12,#T_4601161a_1d55_11ec_b946_0242ac1c0002row7_col14,#T_4601161a_1d55_11ec_b946_0242ac1c0002row8_col1,#T_4601161a_1d55_11ec_b946_0242ac1c0002row8_col10,#T_4601161a_1d55_11ec_b946_0242ac1c0002row10_col9,#T_4601161a_1d55_11ec_b946_0242ac1c0002row10_col11,#T_4601161a_1d55_11ec_b946_0242ac1c0002row13_col4,#T_4601161a_1d55_11ec_b946_0242ac1c0002row13_col6,#T_4601161a_1d55_11ec_b946_0242ac1c0002row13_col8,#T_4601161a_1d55_11ec_b946_0242ac1c0002row16_col10{\n",
              "            background-color:  #4257c9;\n",
              "            color:  #f1f1f1;\n",
              "        }#T_4601161a_1d55_11ec_b946_0242ac1c0002row0_col13,#T_4601161a_1d55_11ec_b946_0242ac1c0002row7_col13,#T_4601161a_1d55_11ec_b946_0242ac1c0002row15_col2{\n",
              "            background-color:  #4f69d9;\n",
              "            color:  #000000;\n",
              "        }#T_4601161a_1d55_11ec_b946_0242ac1c0002row0_col16,#T_4601161a_1d55_11ec_b946_0242ac1c0002row13_col2{\n",
              "            background-color:  #5875e1;\n",
              "            color:  #000000;\n",
              "        }#T_4601161a_1d55_11ec_b946_0242ac1c0002row1_col0,#T_4601161a_1d55_11ec_b946_0242ac1c0002row1_col7,#T_4601161a_1d55_11ec_b946_0242ac1c0002row1_col12,#T_4601161a_1d55_11ec_b946_0242ac1c0002row1_col14,#T_4601161a_1d55_11ec_b946_0242ac1c0002row2_col16,#T_4601161a_1d55_11ec_b946_0242ac1c0002row4_col6,#T_4601161a_1d55_11ec_b946_0242ac1c0002row4_col8,#T_4601161a_1d55_11ec_b946_0242ac1c0002row4_col10,#T_4601161a_1d55_11ec_b946_0242ac1c0002row4_col15,#T_4601161a_1d55_11ec_b946_0242ac1c0002row6_col4,#T_4601161a_1d55_11ec_b946_0242ac1c0002row6_col7,#T_4601161a_1d55_11ec_b946_0242ac1c0002row6_col9,#T_4601161a_1d55_11ec_b946_0242ac1c0002row6_col11,#T_4601161a_1d55_11ec_b946_0242ac1c0002row8_col4,#T_4601161a_1d55_11ec_b946_0242ac1c0002row8_col7,#T_4601161a_1d55_11ec_b946_0242ac1c0002row8_col9,#T_4601161a_1d55_11ec_b946_0242ac1c0002row8_col11,#T_4601161a_1d55_11ec_b946_0242ac1c0002row9_col12,#T_4601161a_1d55_11ec_b946_0242ac1c0002row9_col14,#T_4601161a_1d55_11ec_b946_0242ac1c0002row10_col0,#T_4601161a_1d55_11ec_b946_0242ac1c0002row10_col4,#T_4601161a_1d55_11ec_b946_0242ac1c0002row11_col12,#T_4601161a_1d55_11ec_b946_0242ac1c0002row11_col14,#T_4601161a_1d55_11ec_b946_0242ac1c0002row12_col3,#T_4601161a_1d55_11ec_b946_0242ac1c0002row12_col5,#T_4601161a_1d55_11ec_b946_0242ac1c0002row12_col9,#T_4601161a_1d55_11ec_b946_0242ac1c0002row12_col11,#T_4601161a_1d55_11ec_b946_0242ac1c0002row13_col1,#T_4601161a_1d55_11ec_b946_0242ac1c0002row13_col9,#T_4601161a_1d55_11ec_b946_0242ac1c0002row13_col11,#T_4601161a_1d55_11ec_b946_0242ac1c0002row13_col15,#T_4601161a_1d55_11ec_b946_0242ac1c0002row14_col3,#T_4601161a_1d55_11ec_b946_0242ac1c0002row14_col5,#T_4601161a_1d55_11ec_b946_0242ac1c0002row14_col9,#T_4601161a_1d55_11ec_b946_0242ac1c0002row14_col11,#T_4601161a_1d55_11ec_b946_0242ac1c0002row15_col3,#T_4601161a_1d55_11ec_b946_0242ac1c0002row15_col4,#T_4601161a_1d55_11ec_b946_0242ac1c0002row15_col5,#T_4601161a_1d55_11ec_b946_0242ac1c0002row16_col2,#T_4601161a_1d55_11ec_b946_0242ac1c0002row16_col13{\n",
              "            background-color:  #3b4cc0;\n",
              "            color:  #f1f1f1;\n",
              "        }#T_4601161a_1d55_11ec_b946_0242ac1c0002row1_col2,#T_4601161a_1d55_11ec_b946_0242ac1c0002row12_col13,#T_4601161a_1d55_11ec_b946_0242ac1c0002row14_col13{\n",
              "            background-color:  #536edd;\n",
              "            color:  #000000;\n",
              "        }#T_4601161a_1d55_11ec_b946_0242ac1c0002row1_col10,#T_4601161a_1d55_11ec_b946_0242ac1c0002row2_col6,#T_4601161a_1d55_11ec_b946_0242ac1c0002row2_col8,#T_4601161a_1d55_11ec_b946_0242ac1c0002row4_col9,#T_4601161a_1d55_11ec_b946_0242ac1c0002row4_col11,#T_4601161a_1d55_11ec_b946_0242ac1c0002row9_col13,#T_4601161a_1d55_11ec_b946_0242ac1c0002row10_col3,#T_4601161a_1d55_11ec_b946_0242ac1c0002row10_col5,#T_4601161a_1d55_11ec_b946_0242ac1c0002row11_col13{\n",
              "            background-color:  #455cce;\n",
              "            color:  #f1f1f1;\n",
              "        }#T_4601161a_1d55_11ec_b946_0242ac1c0002row1_col15,#T_4601161a_1d55_11ec_b946_0242ac1c0002row9_col4,#T_4601161a_1d55_11ec_b946_0242ac1c0002row11_col4{\n",
              "            background-color:  #485fd1;\n",
              "            color:  #f1f1f1;\n",
              "        }#T_4601161a_1d55_11ec_b946_0242ac1c0002row1_col16,#T_4601161a_1d55_11ec_b946_0242ac1c0002row9_col2,#T_4601161a_1d55_11ec_b946_0242ac1c0002row10_col2,#T_4601161a_1d55_11ec_b946_0242ac1c0002row10_col16,#T_4601161a_1d55_11ec_b946_0242ac1c0002row11_col2{\n",
              "            background-color:  #5572df;\n",
              "            color:  #000000;\n",
              "        }#T_4601161a_1d55_11ec_b946_0242ac1c0002row2_col1,#T_4601161a_1d55_11ec_b946_0242ac1c0002row2_col9,#T_4601161a_1d55_11ec_b946_0242ac1c0002row2_col11,#T_4601161a_1d55_11ec_b946_0242ac1c0002row2_col12,#T_4601161a_1d55_11ec_b946_0242ac1c0002row2_col14,#T_4601161a_1d55_11ec_b946_0242ac1c0002row4_col3,#T_4601161a_1d55_11ec_b946_0242ac1c0002row4_col5,#T_4601161a_1d55_11ec_b946_0242ac1c0002row6_col3,#T_4601161a_1d55_11ec_b946_0242ac1c0002row6_col5,#T_4601161a_1d55_11ec_b946_0242ac1c0002row7_col15,#T_4601161a_1d55_11ec_b946_0242ac1c0002row8_col3,#T_4601161a_1d55_11ec_b946_0242ac1c0002row8_col5,#T_4601161a_1d55_11ec_b946_0242ac1c0002row12_col0,#T_4601161a_1d55_11ec_b946_0242ac1c0002row12_col7,#T_4601161a_1d55_11ec_b946_0242ac1c0002row13_col3,#T_4601161a_1d55_11ec_b946_0242ac1c0002row13_col5,#T_4601161a_1d55_11ec_b946_0242ac1c0002row14_col0,#T_4601161a_1d55_11ec_b946_0242ac1c0002row14_col7,#T_4601161a_1d55_11ec_b946_0242ac1c0002row16_col7{\n",
              "            background-color:  #4055c8;\n",
              "            color:  #f1f1f1;\n",
              "        }#T_4601161a_1d55_11ec_b946_0242ac1c0002row2_col13{\n",
              "            background-color:  #4e68d8;\n",
              "            color:  #000000;\n",
              "        }#T_4601161a_1d55_11ec_b946_0242ac1c0002row3_col2,#T_4601161a_1d55_11ec_b946_0242ac1c0002row5_col2,#T_4601161a_1d55_11ec_b946_0242ac1c0002row12_col2,#T_4601161a_1d55_11ec_b946_0242ac1c0002row14_col2,#T_4601161a_1d55_11ec_b946_0242ac1c0002row16_col12,#T_4601161a_1d55_11ec_b946_0242ac1c0002row16_col14{\n",
              "            background-color:  #5470de;\n",
              "            color:  #000000;\n",
              "        }#T_4601161a_1d55_11ec_b946_0242ac1c0002row3_col10,#T_4601161a_1d55_11ec_b946_0242ac1c0002row4_col12,#T_4601161a_1d55_11ec_b946_0242ac1c0002row4_col14,#T_4601161a_1d55_11ec_b946_0242ac1c0002row5_col10,#T_4601161a_1d55_11ec_b946_0242ac1c0002row10_col1,#T_4601161a_1d55_11ec_b946_0242ac1c0002row12_col4,#T_4601161a_1d55_11ec_b946_0242ac1c0002row14_col4,#T_4601161a_1d55_11ec_b946_0242ac1c0002row16_col4{\n",
              "            background-color:  #465ecf;\n",
              "            color:  #f1f1f1;\n",
              "        }#T_4601161a_1d55_11ec_b946_0242ac1c0002row3_col13,#T_4601161a_1d55_11ec_b946_0242ac1c0002row5_col13{\n",
              "            background-color:  #4b64d5;\n",
              "            color:  #f1f1f1;\n",
              "        }#T_4601161a_1d55_11ec_b946_0242ac1c0002row3_col16,#T_4601161a_1d55_11ec_b946_0242ac1c0002row5_col16{\n",
              "            background-color:  #94b6ff;\n",
              "            color:  #000000;\n",
              "        }#T_4601161a_1d55_11ec_b946_0242ac1c0002row4_col0,#T_4601161a_1d55_11ec_b946_0242ac1c0002row4_col13,#T_4601161a_1d55_11ec_b946_0242ac1c0002row6_col13,#T_4601161a_1d55_11ec_b946_0242ac1c0002row8_col13{\n",
              "            background-color:  #4a63d3;\n",
              "            color:  #f1f1f1;\n",
              "        }#T_4601161a_1d55_11ec_b946_0242ac1c0002row4_col2{\n",
              "            background-color:  #506bda;\n",
              "            color:  #000000;\n",
              "        }#T_4601161a_1d55_11ec_b946_0242ac1c0002row4_col16,#T_4601161a_1d55_11ec_b946_0242ac1c0002row6_col2,#T_4601161a_1d55_11ec_b946_0242ac1c0002row8_col2{\n",
              "            background-color:  #5977e3;\n",
              "            color:  #000000;\n",
              "        }#T_4601161a_1d55_11ec_b946_0242ac1c0002row6_col16,#T_4601161a_1d55_11ec_b946_0242ac1c0002row8_col16{\n",
              "            background-color:  #6f92f3;\n",
              "            color:  #000000;\n",
              "        }#T_4601161a_1d55_11ec_b946_0242ac1c0002row7_col0,#T_4601161a_1d55_11ec_b946_0242ac1c0002row13_col0,#T_4601161a_1d55_11ec_b946_0242ac1c0002row13_col16,#T_4601161a_1d55_11ec_b946_0242ac1c0002row15_col13{\n",
              "            background-color:  #445acc;\n",
              "            color:  #f1f1f1;\n",
              "        }#T_4601161a_1d55_11ec_b946_0242ac1c0002row7_col16{\n",
              "            background-color:  #5673e0;\n",
              "            color:  #000000;\n",
              "        }#T_4601161a_1d55_11ec_b946_0242ac1c0002row9_col16,#T_4601161a_1d55_11ec_b946_0242ac1c0002row11_col16{\n",
              "            background-color:  #5e7de7;\n",
              "            color:  #000000;\n",
              "        }#T_4601161a_1d55_11ec_b946_0242ac1c0002row10_col13,#T_4601161a_1d55_11ec_b946_0242ac1c0002row13_col12,#T_4601161a_1d55_11ec_b946_0242ac1c0002row13_col14,#T_4601161a_1d55_11ec_b946_0242ac1c0002row15_col1,#T_4601161a_1d55_11ec_b946_0242ac1c0002row16_col9,#T_4601161a_1d55_11ec_b946_0242ac1c0002row16_col11{\n",
              "            background-color:  #4961d2;\n",
              "            color:  #f1f1f1;\n",
              "        }#T_4601161a_1d55_11ec_b946_0242ac1c0002row12_col16,#T_4601161a_1d55_11ec_b946_0242ac1c0002row14_col16{\n",
              "            background-color:  #688aef;\n",
              "            color:  #000000;\n",
              "        }#T_4601161a_1d55_11ec_b946_0242ac1c0002row15_col16{\n",
              "            background-color:  #96b7ff;\n",
              "            color:  #000000;\n",
              "        }#T_4601161a_1d55_11ec_b946_0242ac1c0002row16_col3,#T_4601161a_1d55_11ec_b946_0242ac1c0002row16_col5{\n",
              "            background-color:  #81a4fb;\n",
              "            color:  #000000;\n",
              "        }#T_4601161a_1d55_11ec_b946_0242ac1c0002row16_col6,#T_4601161a_1d55_11ec_b946_0242ac1c0002row16_col8{\n",
              "            background-color:  #5d7ce6;\n",
              "            color:  #000000;\n",
              "        }#T_4601161a_1d55_11ec_b946_0242ac1c0002row16_col15{\n",
              "            background-color:  #84a7fc;\n",
              "            color:  #000000;\n",
              "        }</style><table id=\"T_4601161a_1d55_11ec_b946_0242ac1c0002\" ><thead>    <tr>        <th class=\"blank level0\" ></th>        <th class=\"col_heading level0 col0\" >Account length</th>        <th class=\"col_heading level0 col1\" >Area code</th>        <th class=\"col_heading level0 col2\" >Number vmail messages</th>        <th class=\"col_heading level0 col3\" >Total day minutes</th>        <th class=\"col_heading level0 col4\" >Total day calls</th>        <th class=\"col_heading level0 col5\" >Total day charge</th>        <th class=\"col_heading level0 col6\" >Total eve minutes</th>        <th class=\"col_heading level0 col7\" >Total eve calls</th>        <th class=\"col_heading level0 col8\" >Total eve charge</th>        <th class=\"col_heading level0 col9\" >Total night minutes</th>        <th class=\"col_heading level0 col10\" >Total night calls</th>        <th class=\"col_heading level0 col11\" >Total night charge</th>        <th class=\"col_heading level0 col12\" >Total intl minutes</th>        <th class=\"col_heading level0 col13\" >Total intl calls</th>        <th class=\"col_heading level0 col14\" >Total intl charge</th>        <th class=\"col_heading level0 col15\" >Customer service calls</th>        <th class=\"col_heading level0 col16\" >Churn</th>    </tr></thead><tbody>\n",
              "                <tr>\n",
              "                        <th id=\"T_4601161a_1d55_11ec_b946_0242ac1c0002level0_row0\" class=\"row_heading level0 row0\" >Account length</th>\n",
              "                        <td id=\"T_4601161a_1d55_11ec_b946_0242ac1c0002row0_col0\" class=\"data row0 col0\" >1.000000</td>\n",
              "                        <td id=\"T_4601161a_1d55_11ec_b946_0242ac1c0002row0_col1\" class=\"data row0 col1\" >-0.012463</td>\n",
              "                        <td id=\"T_4601161a_1d55_11ec_b946_0242ac1c0002row0_col2\" class=\"data row0 col2\" >-0.004628</td>\n",
              "                        <td id=\"T_4601161a_1d55_11ec_b946_0242ac1c0002row0_col3\" class=\"data row0 col3\" >0.006216</td>\n",
              "                        <td id=\"T_4601161a_1d55_11ec_b946_0242ac1c0002row0_col4\" class=\"data row0 col4\" >0.038470</td>\n",
              "                        <td id=\"T_4601161a_1d55_11ec_b946_0242ac1c0002row0_col5\" class=\"data row0 col5\" >0.006214</td>\n",
              "                        <td id=\"T_4601161a_1d55_11ec_b946_0242ac1c0002row0_col6\" class=\"data row0 col6\" >-0.006757</td>\n",
              "                        <td id=\"T_4601161a_1d55_11ec_b946_0242ac1c0002row0_col7\" class=\"data row0 col7\" >0.019260</td>\n",
              "                        <td id=\"T_4601161a_1d55_11ec_b946_0242ac1c0002row0_col8\" class=\"data row0 col8\" >-0.006745</td>\n",
              "                        <td id=\"T_4601161a_1d55_11ec_b946_0242ac1c0002row0_col9\" class=\"data row0 col9\" >-0.008955</td>\n",
              "                        <td id=\"T_4601161a_1d55_11ec_b946_0242ac1c0002row0_col10\" class=\"data row0 col10\" >-0.013176</td>\n",
              "                        <td id=\"T_4601161a_1d55_11ec_b946_0242ac1c0002row0_col11\" class=\"data row0 col11\" >-0.008960</td>\n",
              "                        <td id=\"T_4601161a_1d55_11ec_b946_0242ac1c0002row0_col12\" class=\"data row0 col12\" >0.009514</td>\n",
              "                        <td id=\"T_4601161a_1d55_11ec_b946_0242ac1c0002row0_col13\" class=\"data row0 col13\" >0.020661</td>\n",
              "                        <td id=\"T_4601161a_1d55_11ec_b946_0242ac1c0002row0_col14\" class=\"data row0 col14\" >0.009546</td>\n",
              "                        <td id=\"T_4601161a_1d55_11ec_b946_0242ac1c0002row0_col15\" class=\"data row0 col15\" >-0.003796</td>\n",
              "                        <td id=\"T_4601161a_1d55_11ec_b946_0242ac1c0002row0_col16\" class=\"data row0 col16\" >0.016541</td>\n",
              "            </tr>\n",
              "            <tr>\n",
              "                        <th id=\"T_4601161a_1d55_11ec_b946_0242ac1c0002level0_row1\" class=\"row_heading level0 row1\" >Area code</th>\n",
              "                        <td id=\"T_4601161a_1d55_11ec_b946_0242ac1c0002row1_col0\" class=\"data row1 col0\" >-0.012463</td>\n",
              "                        <td id=\"T_4601161a_1d55_11ec_b946_0242ac1c0002row1_col1\" class=\"data row1 col1\" >1.000000</td>\n",
              "                        <td id=\"T_4601161a_1d55_11ec_b946_0242ac1c0002row1_col2\" class=\"data row1 col2\" >-0.001994</td>\n",
              "                        <td id=\"T_4601161a_1d55_11ec_b946_0242ac1c0002row1_col3\" class=\"data row1 col3\" >-0.008264</td>\n",
              "                        <td id=\"T_4601161a_1d55_11ec_b946_0242ac1c0002row1_col4\" class=\"data row1 col4\" >-0.009646</td>\n",
              "                        <td id=\"T_4601161a_1d55_11ec_b946_0242ac1c0002row1_col5\" class=\"data row1 col5\" >-0.008264</td>\n",
              "                        <td id=\"T_4601161a_1d55_11ec_b946_0242ac1c0002row1_col6\" class=\"data row1 col6\" >0.003580</td>\n",
              "                        <td id=\"T_4601161a_1d55_11ec_b946_0242ac1c0002row1_col7\" class=\"data row1 col7\" >-0.011886</td>\n",
              "                        <td id=\"T_4601161a_1d55_11ec_b946_0242ac1c0002row1_col8\" class=\"data row1 col8\" >0.003607</td>\n",
              "                        <td id=\"T_4601161a_1d55_11ec_b946_0242ac1c0002row1_col9\" class=\"data row1 col9\" >-0.005825</td>\n",
              "                        <td id=\"T_4601161a_1d55_11ec_b946_0242ac1c0002row1_col10\" class=\"data row1 col10\" >0.016522</td>\n",
              "                        <td id=\"T_4601161a_1d55_11ec_b946_0242ac1c0002row1_col11\" class=\"data row1 col11\" >-0.005845</td>\n",
              "                        <td id=\"T_4601161a_1d55_11ec_b946_0242ac1c0002row1_col12\" class=\"data row1 col12\" >-0.018288</td>\n",
              "                        <td id=\"T_4601161a_1d55_11ec_b946_0242ac1c0002row1_col13\" class=\"data row1 col13\" >-0.024179</td>\n",
              "                        <td id=\"T_4601161a_1d55_11ec_b946_0242ac1c0002row1_col14\" class=\"data row1 col14\" >-0.018395</td>\n",
              "                        <td id=\"T_4601161a_1d55_11ec_b946_0242ac1c0002row1_col15\" class=\"data row1 col15\" >0.027572</td>\n",
              "                        <td id=\"T_4601161a_1d55_11ec_b946_0242ac1c0002row1_col16\" class=\"data row1 col16\" >0.006174</td>\n",
              "            </tr>\n",
              "            <tr>\n",
              "                        <th id=\"T_4601161a_1d55_11ec_b946_0242ac1c0002level0_row2\" class=\"row_heading level0 row2\" >Number vmail messages</th>\n",
              "                        <td id=\"T_4601161a_1d55_11ec_b946_0242ac1c0002row2_col0\" class=\"data row2 col0\" >-0.004628</td>\n",
              "                        <td id=\"T_4601161a_1d55_11ec_b946_0242ac1c0002row2_col1\" class=\"data row2 col1\" >-0.001994</td>\n",
              "                        <td id=\"T_4601161a_1d55_11ec_b946_0242ac1c0002row2_col2\" class=\"data row2 col2\" >1.000000</td>\n",
              "                        <td id=\"T_4601161a_1d55_11ec_b946_0242ac1c0002row2_col3\" class=\"data row2 col3\" >0.000778</td>\n",
              "                        <td id=\"T_4601161a_1d55_11ec_b946_0242ac1c0002row2_col4\" class=\"data row2 col4\" >-0.009548</td>\n",
              "                        <td id=\"T_4601161a_1d55_11ec_b946_0242ac1c0002row2_col5\" class=\"data row2 col5\" >0.000776</td>\n",
              "                        <td id=\"T_4601161a_1d55_11ec_b946_0242ac1c0002row2_col6\" class=\"data row2 col6\" >0.017562</td>\n",
              "                        <td id=\"T_4601161a_1d55_11ec_b946_0242ac1c0002row2_col7\" class=\"data row2 col7\" >-0.005864</td>\n",
              "                        <td id=\"T_4601161a_1d55_11ec_b946_0242ac1c0002row2_col8\" class=\"data row2 col8\" >0.017578</td>\n",
              "                        <td id=\"T_4601161a_1d55_11ec_b946_0242ac1c0002row2_col9\" class=\"data row2 col9\" >0.007681</td>\n",
              "                        <td id=\"T_4601161a_1d55_11ec_b946_0242ac1c0002row2_col10\" class=\"data row2 col10\" >0.007123</td>\n",
              "                        <td id=\"T_4601161a_1d55_11ec_b946_0242ac1c0002row2_col11\" class=\"data row2 col11\" >0.007663</td>\n",
              "                        <td id=\"T_4601161a_1d55_11ec_b946_0242ac1c0002row2_col12\" class=\"data row2 col12\" >0.002856</td>\n",
              "                        <td id=\"T_4601161a_1d55_11ec_b946_0242ac1c0002row2_col13\" class=\"data row2 col13\" >0.013957</td>\n",
              "                        <td id=\"T_4601161a_1d55_11ec_b946_0242ac1c0002row2_col14\" class=\"data row2 col14\" >0.002884</td>\n",
              "                        <td id=\"T_4601161a_1d55_11ec_b946_0242ac1c0002row2_col15\" class=\"data row2 col15\" >-0.013263</td>\n",
              "                        <td id=\"T_4601161a_1d55_11ec_b946_0242ac1c0002row2_col16\" class=\"data row2 col16\" >-0.089728</td>\n",
              "            </tr>\n",
              "            <tr>\n",
              "                        <th id=\"T_4601161a_1d55_11ec_b946_0242ac1c0002level0_row3\" class=\"row_heading level0 row3\" >Total day minutes</th>\n",
              "                        <td id=\"T_4601161a_1d55_11ec_b946_0242ac1c0002row3_col0\" class=\"data row3 col0\" >0.006216</td>\n",
              "                        <td id=\"T_4601161a_1d55_11ec_b946_0242ac1c0002row3_col1\" class=\"data row3 col1\" >-0.008264</td>\n",
              "                        <td id=\"T_4601161a_1d55_11ec_b946_0242ac1c0002row3_col2\" class=\"data row3 col2\" >0.000778</td>\n",
              "                        <td id=\"T_4601161a_1d55_11ec_b946_0242ac1c0002row3_col3\" class=\"data row3 col3\" >1.000000</td>\n",
              "                        <td id=\"T_4601161a_1d55_11ec_b946_0242ac1c0002row3_col4\" class=\"data row3 col4\" >0.006750</td>\n",
              "                        <td id=\"T_4601161a_1d55_11ec_b946_0242ac1c0002row3_col5\" class=\"data row3 col5\" >1.000000</td>\n",
              "                        <td id=\"T_4601161a_1d55_11ec_b946_0242ac1c0002row3_col6\" class=\"data row3 col6\" >0.007043</td>\n",
              "                        <td id=\"T_4601161a_1d55_11ec_b946_0242ac1c0002row3_col7\" class=\"data row3 col7\" >0.015769</td>\n",
              "                        <td id=\"T_4601161a_1d55_11ec_b946_0242ac1c0002row3_col8\" class=\"data row3 col8\" >0.007029</td>\n",
              "                        <td id=\"T_4601161a_1d55_11ec_b946_0242ac1c0002row3_col9\" class=\"data row3 col9\" >0.004323</td>\n",
              "                        <td id=\"T_4601161a_1d55_11ec_b946_0242ac1c0002row3_col10\" class=\"data row3 col10\" >0.022972</td>\n",
              "                        <td id=\"T_4601161a_1d55_11ec_b946_0242ac1c0002row3_col11\" class=\"data row3 col11\" >0.004300</td>\n",
              "                        <td id=\"T_4601161a_1d55_11ec_b946_0242ac1c0002row3_col12\" class=\"data row3 col12\" >-0.010155</td>\n",
              "                        <td id=\"T_4601161a_1d55_11ec_b946_0242ac1c0002row3_col13\" class=\"data row3 col13\" >0.008033</td>\n",
              "                        <td id=\"T_4601161a_1d55_11ec_b946_0242ac1c0002row3_col14\" class=\"data row3 col14\" >-0.010092</td>\n",
              "                        <td id=\"T_4601161a_1d55_11ec_b946_0242ac1c0002row3_col15\" class=\"data row3 col15\" >-0.013423</td>\n",
              "                        <td id=\"T_4601161a_1d55_11ec_b946_0242ac1c0002row3_col16\" class=\"data row3 col16\" >0.205151</td>\n",
              "            </tr>\n",
              "            <tr>\n",
              "                        <th id=\"T_4601161a_1d55_11ec_b946_0242ac1c0002level0_row4\" class=\"row_heading level0 row4\" >Total day calls</th>\n",
              "                        <td id=\"T_4601161a_1d55_11ec_b946_0242ac1c0002row4_col0\" class=\"data row4 col0\" >0.038470</td>\n",
              "                        <td id=\"T_4601161a_1d55_11ec_b946_0242ac1c0002row4_col1\" class=\"data row4 col1\" >-0.009646</td>\n",
              "                        <td id=\"T_4601161a_1d55_11ec_b946_0242ac1c0002row4_col2\" class=\"data row4 col2\" >-0.009548</td>\n",
              "                        <td id=\"T_4601161a_1d55_11ec_b946_0242ac1c0002row4_col3\" class=\"data row4 col3\" >0.006750</td>\n",
              "                        <td id=\"T_4601161a_1d55_11ec_b946_0242ac1c0002row4_col4\" class=\"data row4 col4\" >1.000000</td>\n",
              "                        <td id=\"T_4601161a_1d55_11ec_b946_0242ac1c0002row4_col5\" class=\"data row4 col5\" >0.006753</td>\n",
              "                        <td id=\"T_4601161a_1d55_11ec_b946_0242ac1c0002row4_col6\" class=\"data row4 col6\" >-0.021451</td>\n",
              "                        <td id=\"T_4601161a_1d55_11ec_b946_0242ac1c0002row4_col7\" class=\"data row4 col7\" >0.006462</td>\n",
              "                        <td id=\"T_4601161a_1d55_11ec_b946_0242ac1c0002row4_col8\" class=\"data row4 col8\" >-0.021449</td>\n",
              "                        <td id=\"T_4601161a_1d55_11ec_b946_0242ac1c0002row4_col9\" class=\"data row4 col9\" >0.022938</td>\n",
              "                        <td id=\"T_4601161a_1d55_11ec_b946_0242ac1c0002row4_col10\" class=\"data row4 col10\" >-0.019557</td>\n",
              "                        <td id=\"T_4601161a_1d55_11ec_b946_0242ac1c0002row4_col11\" class=\"data row4 col11\" >0.022927</td>\n",
              "                        <td id=\"T_4601161a_1d55_11ec_b946_0242ac1c0002row4_col12\" class=\"data row4 col12\" >0.021565</td>\n",
              "                        <td id=\"T_4601161a_1d55_11ec_b946_0242ac1c0002row4_col13\" class=\"data row4 col13\" >0.004574</td>\n",
              "                        <td id=\"T_4601161a_1d55_11ec_b946_0242ac1c0002row4_col14\" class=\"data row4 col14\" >0.021666</td>\n",
              "                        <td id=\"T_4601161a_1d55_11ec_b946_0242ac1c0002row4_col15\" class=\"data row4 col15\" >-0.018942</td>\n",
              "                        <td id=\"T_4601161a_1d55_11ec_b946_0242ac1c0002row4_col16\" class=\"data row4 col16\" >0.018459</td>\n",
              "            </tr>\n",
              "            <tr>\n",
              "                        <th id=\"T_4601161a_1d55_11ec_b946_0242ac1c0002level0_row5\" class=\"row_heading level0 row5\" >Total day charge</th>\n",
              "                        <td id=\"T_4601161a_1d55_11ec_b946_0242ac1c0002row5_col0\" class=\"data row5 col0\" >0.006214</td>\n",
              "                        <td id=\"T_4601161a_1d55_11ec_b946_0242ac1c0002row5_col1\" class=\"data row5 col1\" >-0.008264</td>\n",
              "                        <td id=\"T_4601161a_1d55_11ec_b946_0242ac1c0002row5_col2\" class=\"data row5 col2\" >0.000776</td>\n",
              "                        <td id=\"T_4601161a_1d55_11ec_b946_0242ac1c0002row5_col3\" class=\"data row5 col3\" >1.000000</td>\n",
              "                        <td id=\"T_4601161a_1d55_11ec_b946_0242ac1c0002row5_col4\" class=\"data row5 col4\" >0.006753</td>\n",
              "                        <td id=\"T_4601161a_1d55_11ec_b946_0242ac1c0002row5_col5\" class=\"data row5 col5\" >1.000000</td>\n",
              "                        <td id=\"T_4601161a_1d55_11ec_b946_0242ac1c0002row5_col6\" class=\"data row5 col6\" >0.007050</td>\n",
              "                        <td id=\"T_4601161a_1d55_11ec_b946_0242ac1c0002row5_col7\" class=\"data row5 col7\" >0.015769</td>\n",
              "                        <td id=\"T_4601161a_1d55_11ec_b946_0242ac1c0002row5_col8\" class=\"data row5 col8\" >0.007036</td>\n",
              "                        <td id=\"T_4601161a_1d55_11ec_b946_0242ac1c0002row5_col9\" class=\"data row5 col9\" >0.004324</td>\n",
              "                        <td id=\"T_4601161a_1d55_11ec_b946_0242ac1c0002row5_col10\" class=\"data row5 col10\" >0.022972</td>\n",
              "                        <td id=\"T_4601161a_1d55_11ec_b946_0242ac1c0002row5_col11\" class=\"data row5 col11\" >0.004301</td>\n",
              "                        <td id=\"T_4601161a_1d55_11ec_b946_0242ac1c0002row5_col12\" class=\"data row5 col12\" >-0.010157</td>\n",
              "                        <td id=\"T_4601161a_1d55_11ec_b946_0242ac1c0002row5_col13\" class=\"data row5 col13\" >0.008032</td>\n",
              "                        <td id=\"T_4601161a_1d55_11ec_b946_0242ac1c0002row5_col14\" class=\"data row5 col14\" >-0.010094</td>\n",
              "                        <td id=\"T_4601161a_1d55_11ec_b946_0242ac1c0002row5_col15\" class=\"data row5 col15\" >-0.013427</td>\n",
              "                        <td id=\"T_4601161a_1d55_11ec_b946_0242ac1c0002row5_col16\" class=\"data row5 col16\" >0.205151</td>\n",
              "            </tr>\n",
              "            <tr>\n",
              "                        <th id=\"T_4601161a_1d55_11ec_b946_0242ac1c0002level0_row6\" class=\"row_heading level0 row6\" >Total eve minutes</th>\n",
              "                        <td id=\"T_4601161a_1d55_11ec_b946_0242ac1c0002row6_col0\" class=\"data row6 col0\" >-0.006757</td>\n",
              "                        <td id=\"T_4601161a_1d55_11ec_b946_0242ac1c0002row6_col1\" class=\"data row6 col1\" >0.003580</td>\n",
              "                        <td id=\"T_4601161a_1d55_11ec_b946_0242ac1c0002row6_col2\" class=\"data row6 col2\" >0.017562</td>\n",
              "                        <td id=\"T_4601161a_1d55_11ec_b946_0242ac1c0002row6_col3\" class=\"data row6 col3\" >0.007043</td>\n",
              "                        <td id=\"T_4601161a_1d55_11ec_b946_0242ac1c0002row6_col4\" class=\"data row6 col4\" >-0.021451</td>\n",
              "                        <td id=\"T_4601161a_1d55_11ec_b946_0242ac1c0002row6_col5\" class=\"data row6 col5\" >0.007050</td>\n",
              "                        <td id=\"T_4601161a_1d55_11ec_b946_0242ac1c0002row6_col6\" class=\"data row6 col6\" >1.000000</td>\n",
              "                        <td id=\"T_4601161a_1d55_11ec_b946_0242ac1c0002row6_col7\" class=\"data row6 col7\" >-0.011430</td>\n",
              "                        <td id=\"T_4601161a_1d55_11ec_b946_0242ac1c0002row6_col8\" class=\"data row6 col8\" >1.000000</td>\n",
              "                        <td id=\"T_4601161a_1d55_11ec_b946_0242ac1c0002row6_col9\" class=\"data row6 col9\" >-0.012584</td>\n",
              "                        <td id=\"T_4601161a_1d55_11ec_b946_0242ac1c0002row6_col10\" class=\"data row6 col10\" >0.007586</td>\n",
              "                        <td id=\"T_4601161a_1d55_11ec_b946_0242ac1c0002row6_col11\" class=\"data row6 col11\" >-0.012593</td>\n",
              "                        <td id=\"T_4601161a_1d55_11ec_b946_0242ac1c0002row6_col12\" class=\"data row6 col12\" >-0.011035</td>\n",
              "                        <td id=\"T_4601161a_1d55_11ec_b946_0242ac1c0002row6_col13\" class=\"data row6 col13\" >0.002541</td>\n",
              "                        <td id=\"T_4601161a_1d55_11ec_b946_0242ac1c0002row6_col14\" class=\"data row6 col14\" >-0.011067</td>\n",
              "                        <td id=\"T_4601161a_1d55_11ec_b946_0242ac1c0002row6_col15\" class=\"data row6 col15\" >-0.012985</td>\n",
              "                        <td id=\"T_4601161a_1d55_11ec_b946_0242ac1c0002row6_col16\" class=\"data row6 col16\" >0.092796</td>\n",
              "            </tr>\n",
              "            <tr>\n",
              "                        <th id=\"T_4601161a_1d55_11ec_b946_0242ac1c0002level0_row7\" class=\"row_heading level0 row7\" >Total eve calls</th>\n",
              "                        <td id=\"T_4601161a_1d55_11ec_b946_0242ac1c0002row7_col0\" class=\"data row7 col0\" >0.019260</td>\n",
              "                        <td id=\"T_4601161a_1d55_11ec_b946_0242ac1c0002row7_col1\" class=\"data row7 col1\" >-0.011886</td>\n",
              "                        <td id=\"T_4601161a_1d55_11ec_b946_0242ac1c0002row7_col2\" class=\"data row7 col2\" >-0.005864</td>\n",
              "                        <td id=\"T_4601161a_1d55_11ec_b946_0242ac1c0002row7_col3\" class=\"data row7 col3\" >0.015769</td>\n",
              "                        <td id=\"T_4601161a_1d55_11ec_b946_0242ac1c0002row7_col4\" class=\"data row7 col4\" >0.006462</td>\n",
              "                        <td id=\"T_4601161a_1d55_11ec_b946_0242ac1c0002row7_col5\" class=\"data row7 col5\" >0.015769</td>\n",
              "                        <td id=\"T_4601161a_1d55_11ec_b946_0242ac1c0002row7_col6\" class=\"data row7 col6\" >-0.011430</td>\n",
              "                        <td id=\"T_4601161a_1d55_11ec_b946_0242ac1c0002row7_col7\" class=\"data row7 col7\" >1.000000</td>\n",
              "                        <td id=\"T_4601161a_1d55_11ec_b946_0242ac1c0002row7_col8\" class=\"data row7 col8\" >-0.011423</td>\n",
              "                        <td id=\"T_4601161a_1d55_11ec_b946_0242ac1c0002row7_col9\" class=\"data row7 col9\" >-0.002093</td>\n",
              "                        <td id=\"T_4601161a_1d55_11ec_b946_0242ac1c0002row7_col10\" class=\"data row7 col10\" >0.007710</td>\n",
              "                        <td id=\"T_4601161a_1d55_11ec_b946_0242ac1c0002row7_col11\" class=\"data row7 col11\" >-0.002056</td>\n",
              "                        <td id=\"T_4601161a_1d55_11ec_b946_0242ac1c0002row7_col12\" class=\"data row7 col12\" >0.008703</td>\n",
              "                        <td id=\"T_4601161a_1d55_11ec_b946_0242ac1c0002row7_col13\" class=\"data row7 col13\" >0.017434</td>\n",
              "                        <td id=\"T_4601161a_1d55_11ec_b946_0242ac1c0002row7_col14\" class=\"data row7 col14\" >0.008674</td>\n",
              "                        <td id=\"T_4601161a_1d55_11ec_b946_0242ac1c0002row7_col15\" class=\"data row7 col15\" >0.002423</td>\n",
              "                        <td id=\"T_4601161a_1d55_11ec_b946_0242ac1c0002row7_col16\" class=\"data row7 col16\" >0.009233</td>\n",
              "            </tr>\n",
              "            <tr>\n",
              "                        <th id=\"T_4601161a_1d55_11ec_b946_0242ac1c0002level0_row8\" class=\"row_heading level0 row8\" >Total eve charge</th>\n",
              "                        <td id=\"T_4601161a_1d55_11ec_b946_0242ac1c0002row8_col0\" class=\"data row8 col0\" >-0.006745</td>\n",
              "                        <td id=\"T_4601161a_1d55_11ec_b946_0242ac1c0002row8_col1\" class=\"data row8 col1\" >0.003607</td>\n",
              "                        <td id=\"T_4601161a_1d55_11ec_b946_0242ac1c0002row8_col2\" class=\"data row8 col2\" >0.017578</td>\n",
              "                        <td id=\"T_4601161a_1d55_11ec_b946_0242ac1c0002row8_col3\" class=\"data row8 col3\" >0.007029</td>\n",
              "                        <td id=\"T_4601161a_1d55_11ec_b946_0242ac1c0002row8_col4\" class=\"data row8 col4\" >-0.021449</td>\n",
              "                        <td id=\"T_4601161a_1d55_11ec_b946_0242ac1c0002row8_col5\" class=\"data row8 col5\" >0.007036</td>\n",
              "                        <td id=\"T_4601161a_1d55_11ec_b946_0242ac1c0002row8_col6\" class=\"data row8 col6\" >1.000000</td>\n",
              "                        <td id=\"T_4601161a_1d55_11ec_b946_0242ac1c0002row8_col7\" class=\"data row8 col7\" >-0.011423</td>\n",
              "                        <td id=\"T_4601161a_1d55_11ec_b946_0242ac1c0002row8_col8\" class=\"data row8 col8\" >1.000000</td>\n",
              "                        <td id=\"T_4601161a_1d55_11ec_b946_0242ac1c0002row8_col9\" class=\"data row8 col9\" >-0.012592</td>\n",
              "                        <td id=\"T_4601161a_1d55_11ec_b946_0242ac1c0002row8_col10\" class=\"data row8 col10\" >0.007596</td>\n",
              "                        <td id=\"T_4601161a_1d55_11ec_b946_0242ac1c0002row8_col11\" class=\"data row8 col11\" >-0.012601</td>\n",
              "                        <td id=\"T_4601161a_1d55_11ec_b946_0242ac1c0002row8_col12\" class=\"data row8 col12\" >-0.011043</td>\n",
              "                        <td id=\"T_4601161a_1d55_11ec_b946_0242ac1c0002row8_col13\" class=\"data row8 col13\" >0.002541</td>\n",
              "                        <td id=\"T_4601161a_1d55_11ec_b946_0242ac1c0002row8_col14\" class=\"data row8 col14\" >-0.011074</td>\n",
              "                        <td id=\"T_4601161a_1d55_11ec_b946_0242ac1c0002row8_col15\" class=\"data row8 col15\" >-0.012987</td>\n",
              "                        <td id=\"T_4601161a_1d55_11ec_b946_0242ac1c0002row8_col16\" class=\"data row8 col16\" >0.092786</td>\n",
              "            </tr>\n",
              "            <tr>\n",
              "                        <th id=\"T_4601161a_1d55_11ec_b946_0242ac1c0002level0_row9\" class=\"row_heading level0 row9\" >Total night minutes</th>\n",
              "                        <td id=\"T_4601161a_1d55_11ec_b946_0242ac1c0002row9_col0\" class=\"data row9 col0\" >-0.008955</td>\n",
              "                        <td id=\"T_4601161a_1d55_11ec_b946_0242ac1c0002row9_col1\" class=\"data row9 col1\" >-0.005825</td>\n",
              "                        <td id=\"T_4601161a_1d55_11ec_b946_0242ac1c0002row9_col2\" class=\"data row9 col2\" >0.007681</td>\n",
              "                        <td id=\"T_4601161a_1d55_11ec_b946_0242ac1c0002row9_col3\" class=\"data row9 col3\" >0.004323</td>\n",
              "                        <td id=\"T_4601161a_1d55_11ec_b946_0242ac1c0002row9_col4\" class=\"data row9 col4\" >0.022938</td>\n",
              "                        <td id=\"T_4601161a_1d55_11ec_b946_0242ac1c0002row9_col5\" class=\"data row9 col5\" >0.004324</td>\n",
              "                        <td id=\"T_4601161a_1d55_11ec_b946_0242ac1c0002row9_col6\" class=\"data row9 col6\" >-0.012584</td>\n",
              "                        <td id=\"T_4601161a_1d55_11ec_b946_0242ac1c0002row9_col7\" class=\"data row9 col7\" >-0.002093</td>\n",
              "                        <td id=\"T_4601161a_1d55_11ec_b946_0242ac1c0002row9_col8\" class=\"data row9 col8\" >-0.012592</td>\n",
              "                        <td id=\"T_4601161a_1d55_11ec_b946_0242ac1c0002row9_col9\" class=\"data row9 col9\" >1.000000</td>\n",
              "                        <td id=\"T_4601161a_1d55_11ec_b946_0242ac1c0002row9_col10\" class=\"data row9 col10\" >0.011204</td>\n",
              "                        <td id=\"T_4601161a_1d55_11ec_b946_0242ac1c0002row9_col11\" class=\"data row9 col11\" >0.999999</td>\n",
              "                        <td id=\"T_4601161a_1d55_11ec_b946_0242ac1c0002row9_col12\" class=\"data row9 col12\" >-0.015207</td>\n",
              "                        <td id=\"T_4601161a_1d55_11ec_b946_0242ac1c0002row9_col13\" class=\"data row9 col13\" >-0.012353</td>\n",
              "                        <td id=\"T_4601161a_1d55_11ec_b946_0242ac1c0002row9_col14\" class=\"data row9 col14\" >-0.015180</td>\n",
              "                        <td id=\"T_4601161a_1d55_11ec_b946_0242ac1c0002row9_col15\" class=\"data row9 col15\" >-0.009288</td>\n",
              "                        <td id=\"T_4601161a_1d55_11ec_b946_0242ac1c0002row9_col16\" class=\"data row9 col16\" >0.035493</td>\n",
              "            </tr>\n",
              "            <tr>\n",
              "                        <th id=\"T_4601161a_1d55_11ec_b946_0242ac1c0002level0_row10\" class=\"row_heading level0 row10\" >Total night calls</th>\n",
              "                        <td id=\"T_4601161a_1d55_11ec_b946_0242ac1c0002row10_col0\" class=\"data row10 col0\" >-0.013176</td>\n",
              "                        <td id=\"T_4601161a_1d55_11ec_b946_0242ac1c0002row10_col1\" class=\"data row10 col1\" >0.016522</td>\n",
              "                        <td id=\"T_4601161a_1d55_11ec_b946_0242ac1c0002row10_col2\" class=\"data row10 col2\" >0.007123</td>\n",
              "                        <td id=\"T_4601161a_1d55_11ec_b946_0242ac1c0002row10_col3\" class=\"data row10 col3\" >0.022972</td>\n",
              "                        <td id=\"T_4601161a_1d55_11ec_b946_0242ac1c0002row10_col4\" class=\"data row10 col4\" >-0.019557</td>\n",
              "                        <td id=\"T_4601161a_1d55_11ec_b946_0242ac1c0002row10_col5\" class=\"data row10 col5\" >0.022972</td>\n",
              "                        <td id=\"T_4601161a_1d55_11ec_b946_0242ac1c0002row10_col6\" class=\"data row10 col6\" >0.007586</td>\n",
              "                        <td id=\"T_4601161a_1d55_11ec_b946_0242ac1c0002row10_col7\" class=\"data row10 col7\" >0.007710</td>\n",
              "                        <td id=\"T_4601161a_1d55_11ec_b946_0242ac1c0002row10_col8\" class=\"data row10 col8\" >0.007596</td>\n",
              "                        <td id=\"T_4601161a_1d55_11ec_b946_0242ac1c0002row10_col9\" class=\"data row10 col9\" >0.011204</td>\n",
              "                        <td id=\"T_4601161a_1d55_11ec_b946_0242ac1c0002row10_col10\" class=\"data row10 col10\" >1.000000</td>\n",
              "                        <td id=\"T_4601161a_1d55_11ec_b946_0242ac1c0002row10_col11\" class=\"data row10 col11\" >0.011188</td>\n",
              "                        <td id=\"T_4601161a_1d55_11ec_b946_0242ac1c0002row10_col12\" class=\"data row10 col12\" >-0.013605</td>\n",
              "                        <td id=\"T_4601161a_1d55_11ec_b946_0242ac1c0002row10_col13\" class=\"data row10 col13\" >0.000305</td>\n",
              "                        <td id=\"T_4601161a_1d55_11ec_b946_0242ac1c0002row10_col14\" class=\"data row10 col14\" >-0.013630</td>\n",
              "                        <td id=\"T_4601161a_1d55_11ec_b946_0242ac1c0002row10_col15\" class=\"data row10 col15\" >-0.012802</td>\n",
              "                        <td id=\"T_4601161a_1d55_11ec_b946_0242ac1c0002row10_col16\" class=\"data row10 col16\" >0.006141</td>\n",
              "            </tr>\n",
              "            <tr>\n",
              "                        <th id=\"T_4601161a_1d55_11ec_b946_0242ac1c0002level0_row11\" class=\"row_heading level0 row11\" >Total night charge</th>\n",
              "                        <td id=\"T_4601161a_1d55_11ec_b946_0242ac1c0002row11_col0\" class=\"data row11 col0\" >-0.008960</td>\n",
              "                        <td id=\"T_4601161a_1d55_11ec_b946_0242ac1c0002row11_col1\" class=\"data row11 col1\" >-0.005845</td>\n",
              "                        <td id=\"T_4601161a_1d55_11ec_b946_0242ac1c0002row11_col2\" class=\"data row11 col2\" >0.007663</td>\n",
              "                        <td id=\"T_4601161a_1d55_11ec_b946_0242ac1c0002row11_col3\" class=\"data row11 col3\" >0.004300</td>\n",
              "                        <td id=\"T_4601161a_1d55_11ec_b946_0242ac1c0002row11_col4\" class=\"data row11 col4\" >0.022927</td>\n",
              "                        <td id=\"T_4601161a_1d55_11ec_b946_0242ac1c0002row11_col5\" class=\"data row11 col5\" >0.004301</td>\n",
              "                        <td id=\"T_4601161a_1d55_11ec_b946_0242ac1c0002row11_col6\" class=\"data row11 col6\" >-0.012593</td>\n",
              "                        <td id=\"T_4601161a_1d55_11ec_b946_0242ac1c0002row11_col7\" class=\"data row11 col7\" >-0.002056</td>\n",
              "                        <td id=\"T_4601161a_1d55_11ec_b946_0242ac1c0002row11_col8\" class=\"data row11 col8\" >-0.012601</td>\n",
              "                        <td id=\"T_4601161a_1d55_11ec_b946_0242ac1c0002row11_col9\" class=\"data row11 col9\" >0.999999</td>\n",
              "                        <td id=\"T_4601161a_1d55_11ec_b946_0242ac1c0002row11_col10\" class=\"data row11 col10\" >0.011188</td>\n",
              "                        <td id=\"T_4601161a_1d55_11ec_b946_0242ac1c0002row11_col11\" class=\"data row11 col11\" >1.000000</td>\n",
              "                        <td id=\"T_4601161a_1d55_11ec_b946_0242ac1c0002row11_col12\" class=\"data row11 col12\" >-0.015214</td>\n",
              "                        <td id=\"T_4601161a_1d55_11ec_b946_0242ac1c0002row11_col13\" class=\"data row11 col13\" >-0.012329</td>\n",
              "                        <td id=\"T_4601161a_1d55_11ec_b946_0242ac1c0002row11_col14\" class=\"data row11 col14\" >-0.015186</td>\n",
              "                        <td id=\"T_4601161a_1d55_11ec_b946_0242ac1c0002row11_col15\" class=\"data row11 col15\" >-0.009277</td>\n",
              "                        <td id=\"T_4601161a_1d55_11ec_b946_0242ac1c0002row11_col16\" class=\"data row11 col16\" >0.035496</td>\n",
              "            </tr>\n",
              "            <tr>\n",
              "                        <th id=\"T_4601161a_1d55_11ec_b946_0242ac1c0002level0_row12\" class=\"row_heading level0 row12\" >Total intl minutes</th>\n",
              "                        <td id=\"T_4601161a_1d55_11ec_b946_0242ac1c0002row12_col0\" class=\"data row12 col0\" >0.009514</td>\n",
              "                        <td id=\"T_4601161a_1d55_11ec_b946_0242ac1c0002row12_col1\" class=\"data row12 col1\" >-0.018288</td>\n",
              "                        <td id=\"T_4601161a_1d55_11ec_b946_0242ac1c0002row12_col2\" class=\"data row12 col2\" >0.002856</td>\n",
              "                        <td id=\"T_4601161a_1d55_11ec_b946_0242ac1c0002row12_col3\" class=\"data row12 col3\" >-0.010155</td>\n",
              "                        <td id=\"T_4601161a_1d55_11ec_b946_0242ac1c0002row12_col4\" class=\"data row12 col4\" >0.021565</td>\n",
              "                        <td id=\"T_4601161a_1d55_11ec_b946_0242ac1c0002row12_col5\" class=\"data row12 col5\" >-0.010157</td>\n",
              "                        <td id=\"T_4601161a_1d55_11ec_b946_0242ac1c0002row12_col6\" class=\"data row12 col6\" >-0.011035</td>\n",
              "                        <td id=\"T_4601161a_1d55_11ec_b946_0242ac1c0002row12_col7\" class=\"data row12 col7\" >0.008703</td>\n",
              "                        <td id=\"T_4601161a_1d55_11ec_b946_0242ac1c0002row12_col8\" class=\"data row12 col8\" >-0.011043</td>\n",
              "                        <td id=\"T_4601161a_1d55_11ec_b946_0242ac1c0002row12_col9\" class=\"data row12 col9\" >-0.015207</td>\n",
              "                        <td id=\"T_4601161a_1d55_11ec_b946_0242ac1c0002row12_col10\" class=\"data row12 col10\" >-0.013605</td>\n",
              "                        <td id=\"T_4601161a_1d55_11ec_b946_0242ac1c0002row12_col11\" class=\"data row12 col11\" >-0.015214</td>\n",
              "                        <td id=\"T_4601161a_1d55_11ec_b946_0242ac1c0002row12_col12\" class=\"data row12 col12\" >1.000000</td>\n",
              "                        <td id=\"T_4601161a_1d55_11ec_b946_0242ac1c0002row12_col13\" class=\"data row12 col13\" >0.032304</td>\n",
              "                        <td id=\"T_4601161a_1d55_11ec_b946_0242ac1c0002row12_col14\" class=\"data row12 col14\" >0.999993</td>\n",
              "                        <td id=\"T_4601161a_1d55_11ec_b946_0242ac1c0002row12_col15\" class=\"data row12 col15\" >-0.009640</td>\n",
              "                        <td id=\"T_4601161a_1d55_11ec_b946_0242ac1c0002row12_col16\" class=\"data row12 col16\" >0.068239</td>\n",
              "            </tr>\n",
              "            <tr>\n",
              "                        <th id=\"T_4601161a_1d55_11ec_b946_0242ac1c0002level0_row13\" class=\"row_heading level0 row13\" >Total intl calls</th>\n",
              "                        <td id=\"T_4601161a_1d55_11ec_b946_0242ac1c0002row13_col0\" class=\"data row13 col0\" >0.020661</td>\n",
              "                        <td id=\"T_4601161a_1d55_11ec_b946_0242ac1c0002row13_col1\" class=\"data row13 col1\" >-0.024179</td>\n",
              "                        <td id=\"T_4601161a_1d55_11ec_b946_0242ac1c0002row13_col2\" class=\"data row13 col2\" >0.013957</td>\n",
              "                        <td id=\"T_4601161a_1d55_11ec_b946_0242ac1c0002row13_col3\" class=\"data row13 col3\" >0.008033</td>\n",
              "                        <td id=\"T_4601161a_1d55_11ec_b946_0242ac1c0002row13_col4\" class=\"data row13 col4\" >0.004574</td>\n",
              "                        <td id=\"T_4601161a_1d55_11ec_b946_0242ac1c0002row13_col5\" class=\"data row13 col5\" >0.008032</td>\n",
              "                        <td id=\"T_4601161a_1d55_11ec_b946_0242ac1c0002row13_col6\" class=\"data row13 col6\" >0.002541</td>\n",
              "                        <td id=\"T_4601161a_1d55_11ec_b946_0242ac1c0002row13_col7\" class=\"data row13 col7\" >0.017434</td>\n",
              "                        <td id=\"T_4601161a_1d55_11ec_b946_0242ac1c0002row13_col8\" class=\"data row13 col8\" >0.002541</td>\n",
              "                        <td id=\"T_4601161a_1d55_11ec_b946_0242ac1c0002row13_col9\" class=\"data row13 col9\" >-0.012353</td>\n",
              "                        <td id=\"T_4601161a_1d55_11ec_b946_0242ac1c0002row13_col10\" class=\"data row13 col10\" >0.000305</td>\n",
              "                        <td id=\"T_4601161a_1d55_11ec_b946_0242ac1c0002row13_col11\" class=\"data row13 col11\" >-0.012329</td>\n",
              "                        <td id=\"T_4601161a_1d55_11ec_b946_0242ac1c0002row13_col12\" class=\"data row13 col12\" >0.032304</td>\n",
              "                        <td id=\"T_4601161a_1d55_11ec_b946_0242ac1c0002row13_col13\" class=\"data row13 col13\" >1.000000</td>\n",
              "                        <td id=\"T_4601161a_1d55_11ec_b946_0242ac1c0002row13_col14\" class=\"data row13 col14\" >0.032372</td>\n",
              "                        <td id=\"T_4601161a_1d55_11ec_b946_0242ac1c0002row13_col15\" class=\"data row13 col15\" >-0.017561</td>\n",
              "                        <td id=\"T_4601161a_1d55_11ec_b946_0242ac1c0002row13_col16\" class=\"data row13 col16\" >-0.052844</td>\n",
              "            </tr>\n",
              "            <tr>\n",
              "                        <th id=\"T_4601161a_1d55_11ec_b946_0242ac1c0002level0_row14\" class=\"row_heading level0 row14\" >Total intl charge</th>\n",
              "                        <td id=\"T_4601161a_1d55_11ec_b946_0242ac1c0002row14_col0\" class=\"data row14 col0\" >0.009546</td>\n",
              "                        <td id=\"T_4601161a_1d55_11ec_b946_0242ac1c0002row14_col1\" class=\"data row14 col1\" >-0.018395</td>\n",
              "                        <td id=\"T_4601161a_1d55_11ec_b946_0242ac1c0002row14_col2\" class=\"data row14 col2\" >0.002884</td>\n",
              "                        <td id=\"T_4601161a_1d55_11ec_b946_0242ac1c0002row14_col3\" class=\"data row14 col3\" >-0.010092</td>\n",
              "                        <td id=\"T_4601161a_1d55_11ec_b946_0242ac1c0002row14_col4\" class=\"data row14 col4\" >0.021666</td>\n",
              "                        <td id=\"T_4601161a_1d55_11ec_b946_0242ac1c0002row14_col5\" class=\"data row14 col5\" >-0.010094</td>\n",
              "                        <td id=\"T_4601161a_1d55_11ec_b946_0242ac1c0002row14_col6\" class=\"data row14 col6\" >-0.011067</td>\n",
              "                        <td id=\"T_4601161a_1d55_11ec_b946_0242ac1c0002row14_col7\" class=\"data row14 col7\" >0.008674</td>\n",
              "                        <td id=\"T_4601161a_1d55_11ec_b946_0242ac1c0002row14_col8\" class=\"data row14 col8\" >-0.011074</td>\n",
              "                        <td id=\"T_4601161a_1d55_11ec_b946_0242ac1c0002row14_col9\" class=\"data row14 col9\" >-0.015180</td>\n",
              "                        <td id=\"T_4601161a_1d55_11ec_b946_0242ac1c0002row14_col10\" class=\"data row14 col10\" >-0.013630</td>\n",
              "                        <td id=\"T_4601161a_1d55_11ec_b946_0242ac1c0002row14_col11\" class=\"data row14 col11\" >-0.015186</td>\n",
              "                        <td id=\"T_4601161a_1d55_11ec_b946_0242ac1c0002row14_col12\" class=\"data row14 col12\" >0.999993</td>\n",
              "                        <td id=\"T_4601161a_1d55_11ec_b946_0242ac1c0002row14_col13\" class=\"data row14 col13\" >0.032372</td>\n",
              "                        <td id=\"T_4601161a_1d55_11ec_b946_0242ac1c0002row14_col14\" class=\"data row14 col14\" >1.000000</td>\n",
              "                        <td id=\"T_4601161a_1d55_11ec_b946_0242ac1c0002row14_col15\" class=\"data row14 col15\" >-0.009675</td>\n",
              "                        <td id=\"T_4601161a_1d55_11ec_b946_0242ac1c0002row14_col16\" class=\"data row14 col16\" >0.068259</td>\n",
              "            </tr>\n",
              "            <tr>\n",
              "                        <th id=\"T_4601161a_1d55_11ec_b946_0242ac1c0002level0_row15\" class=\"row_heading level0 row15\" >Customer service calls</th>\n",
              "                        <td id=\"T_4601161a_1d55_11ec_b946_0242ac1c0002row15_col0\" class=\"data row15 col0\" >-0.003796</td>\n",
              "                        <td id=\"T_4601161a_1d55_11ec_b946_0242ac1c0002row15_col1\" class=\"data row15 col1\" >0.027572</td>\n",
              "                        <td id=\"T_4601161a_1d55_11ec_b946_0242ac1c0002row15_col2\" class=\"data row15 col2\" >-0.013263</td>\n",
              "                        <td id=\"T_4601161a_1d55_11ec_b946_0242ac1c0002row15_col3\" class=\"data row15 col3\" >-0.013423</td>\n",
              "                        <td id=\"T_4601161a_1d55_11ec_b946_0242ac1c0002row15_col4\" class=\"data row15 col4\" >-0.018942</td>\n",
              "                        <td id=\"T_4601161a_1d55_11ec_b946_0242ac1c0002row15_col5\" class=\"data row15 col5\" >-0.013427</td>\n",
              "                        <td id=\"T_4601161a_1d55_11ec_b946_0242ac1c0002row15_col6\" class=\"data row15 col6\" >-0.012985</td>\n",
              "                        <td id=\"T_4601161a_1d55_11ec_b946_0242ac1c0002row15_col7\" class=\"data row15 col7\" >0.002423</td>\n",
              "                        <td id=\"T_4601161a_1d55_11ec_b946_0242ac1c0002row15_col8\" class=\"data row15 col8\" >-0.012987</td>\n",
              "                        <td id=\"T_4601161a_1d55_11ec_b946_0242ac1c0002row15_col9\" class=\"data row15 col9\" >-0.009288</td>\n",
              "                        <td id=\"T_4601161a_1d55_11ec_b946_0242ac1c0002row15_col10\" class=\"data row15 col10\" >-0.012802</td>\n",
              "                        <td id=\"T_4601161a_1d55_11ec_b946_0242ac1c0002row15_col11\" class=\"data row15 col11\" >-0.009277</td>\n",
              "                        <td id=\"T_4601161a_1d55_11ec_b946_0242ac1c0002row15_col12\" class=\"data row15 col12\" >-0.009640</td>\n",
              "                        <td id=\"T_4601161a_1d55_11ec_b946_0242ac1c0002row15_col13\" class=\"data row15 col13\" >-0.017561</td>\n",
              "                        <td id=\"T_4601161a_1d55_11ec_b946_0242ac1c0002row15_col14\" class=\"data row15 col14\" >-0.009675</td>\n",
              "                        <td id=\"T_4601161a_1d55_11ec_b946_0242ac1c0002row15_col15\" class=\"data row15 col15\" >1.000000</td>\n",
              "                        <td id=\"T_4601161a_1d55_11ec_b946_0242ac1c0002row15_col16\" class=\"data row15 col16\" >0.208750</td>\n",
              "            </tr>\n",
              "            <tr>\n",
              "                        <th id=\"T_4601161a_1d55_11ec_b946_0242ac1c0002level0_row16\" class=\"row_heading level0 row16\" >Churn</th>\n",
              "                        <td id=\"T_4601161a_1d55_11ec_b946_0242ac1c0002row16_col0\" class=\"data row16 col0\" >0.016541</td>\n",
              "                        <td id=\"T_4601161a_1d55_11ec_b946_0242ac1c0002row16_col1\" class=\"data row16 col1\" >0.006174</td>\n",
              "                        <td id=\"T_4601161a_1d55_11ec_b946_0242ac1c0002row16_col2\" class=\"data row16 col2\" >-0.089728</td>\n",
              "                        <td id=\"T_4601161a_1d55_11ec_b946_0242ac1c0002row16_col3\" class=\"data row16 col3\" >0.205151</td>\n",
              "                        <td id=\"T_4601161a_1d55_11ec_b946_0242ac1c0002row16_col4\" class=\"data row16 col4\" >0.018459</td>\n",
              "                        <td id=\"T_4601161a_1d55_11ec_b946_0242ac1c0002row16_col5\" class=\"data row16 col5\" >0.205151</td>\n",
              "                        <td id=\"T_4601161a_1d55_11ec_b946_0242ac1c0002row16_col6\" class=\"data row16 col6\" >0.092796</td>\n",
              "                        <td id=\"T_4601161a_1d55_11ec_b946_0242ac1c0002row16_col7\" class=\"data row16 col7\" >0.009233</td>\n",
              "                        <td id=\"T_4601161a_1d55_11ec_b946_0242ac1c0002row16_col8\" class=\"data row16 col8\" >0.092786</td>\n",
              "                        <td id=\"T_4601161a_1d55_11ec_b946_0242ac1c0002row16_col9\" class=\"data row16 col9\" >0.035493</td>\n",
              "                        <td id=\"T_4601161a_1d55_11ec_b946_0242ac1c0002row16_col10\" class=\"data row16 col10\" >0.006141</td>\n",
              "                        <td id=\"T_4601161a_1d55_11ec_b946_0242ac1c0002row16_col11\" class=\"data row16 col11\" >0.035496</td>\n",
              "                        <td id=\"T_4601161a_1d55_11ec_b946_0242ac1c0002row16_col12\" class=\"data row16 col12\" >0.068239</td>\n",
              "                        <td id=\"T_4601161a_1d55_11ec_b946_0242ac1c0002row16_col13\" class=\"data row16 col13\" >-0.052844</td>\n",
              "                        <td id=\"T_4601161a_1d55_11ec_b946_0242ac1c0002row16_col14\" class=\"data row16 col14\" >0.068259</td>\n",
              "                        <td id=\"T_4601161a_1d55_11ec_b946_0242ac1c0002row16_col15\" class=\"data row16 col15\" >0.208750</td>\n",
              "                        <td id=\"T_4601161a_1d55_11ec_b946_0242ac1c0002row16_col16\" class=\"data row16 col16\" >1.000000</td>\n",
              "            </tr>\n",
              "    </tbody></table>"
            ],
            "text/plain": [
              "<pandas.io.formats.style.Styler at 0x7fd2e6777d10>"
            ]
          },
          "metadata": {},
          "execution_count": 38
        }
      ]
    },
    {
      "cell_type": "markdown",
      "metadata": {
        "id": "2rsYouddmQzl"
      },
      "source": [
        "### Business Moments\n",
        "To get the stastical insights for the ratio data type columns, First we need to get those columns."
      ]
    },
    {
      "cell_type": "code",
      "metadata": {
        "colab": {
          "base_uri": "https://localhost:8080/"
        },
        "id": "tIhELmJTmQCV",
        "outputId": "8065893c-34b4-49c6-c54a-0a83a3f5e276"
      },
      "source": [
        "#List of categorical features\n",
        "categorical_features=[feature for feature in telecom_df.columns if telecom_df[feature].dtype=='O']\n",
        "print('Number of categorical variables: ', len(categorical_features))\n",
        "categorical_features"
      ],
      "execution_count": null,
      "outputs": [
        {
          "output_type": "stream",
          "name": "stdout",
          "text": [
            "Number of categorical variables:  3\n"
          ]
        },
        {
          "output_type": "execute_result",
          "data": {
            "text/plain": [
              "['State', 'International plan', 'Voice mail plan']"
            ]
          },
          "metadata": {},
          "execution_count": 32
        }
      ]
    },
    {
      "cell_type": "code",
      "metadata": {
        "colab": {
          "base_uri": "https://localhost:8080/"
        },
        "id": "1Dw7bS8hpPWn",
        "outputId": "a10312e1-634b-45f8-a06c-2848a1741ac3"
      },
      "source": [
        "# list of numerical variables\n",
        "numerical_features = [feature for feature in telecom_df.columns if telecom_df[feature].dtypes != 'O']\n",
        "print('Number of numerical variables: ', len(numerical_features))\n",
        "numerical_features"
      ],
      "execution_count": null,
      "outputs": [
        {
          "output_type": "stream",
          "name": "stdout",
          "text": [
            "Number of numerical variables:  17\n"
          ]
        },
        {
          "output_type": "execute_result",
          "data": {
            "text/plain": [
              "['Account length',\n",
              " 'Area code',\n",
              " 'Number vmail messages',\n",
              " 'Total day minutes',\n",
              " 'Total day calls',\n",
              " 'Total day charge',\n",
              " 'Total eve minutes',\n",
              " 'Total eve calls',\n",
              " 'Total eve charge',\n",
              " 'Total night minutes',\n",
              " 'Total night calls',\n",
              " 'Total night charge',\n",
              " 'Total intl minutes',\n",
              " 'Total intl calls',\n",
              " 'Total intl charge',\n",
              " 'Customer service calls',\n",
              " 'Churn']"
            ]
          },
          "metadata": {},
          "execution_count": 39
        }
      ]
    },
    {
      "cell_type": "code",
      "metadata": {
        "id": "a3JzMlAqqoHH"
      },
      "source": [
        "df_num=telecom_df.drop(categorical_features,axis=1)"
      ],
      "execution_count": null,
      "outputs": []
    },
    {
      "cell_type": "code",
      "metadata": {
        "id": "AokJ0L9RqNeX"
      },
      "source": [
        "#First Business Moment\n",
        "Mean=pd.DataFrame(df_num.mean(),columns=[\"Mean\"]).reset_index()\n",
        "Median=pd.DataFrame(df_num.median(),columns=[\"Median\"]).reset_index()\n",
        "m=[]\n",
        "for i in df_num.columns:\n",
        "    a = df_num[i].mode().iloc[0]\n",
        "    m.append(a)\n",
        "Mode=pd.DataFrame(m,columns=[\"Mode\"]).reset_index()"
      ],
      "execution_count": null,
      "outputs": []
    },
    {
      "cell_type": "code",
      "metadata": {
        "id": "xbbJYpmlq22E"
      },
      "source": [
        "#Second Business Moment\n",
        "\n",
        "Variance=pd.DataFrame(df_num.var(),columns=[\"Variance\"]).reset_index()\n",
        "Standard=pd.DataFrame(df_num.std(),columns=[\"Standard_Deviation\"]).reset_index()\n",
        "r=[]\n",
        "for i in df_num.columns:\n",
        "    a = max(df_num[i]) - min(df_num[i])\n",
        "    r.append(a)\n",
        "Range=pd.DataFrame(m,columns=[\"Range\"]).reset_index()"
      ],
      "execution_count": null,
      "outputs": []
    },
    {
      "cell_type": "code",
      "metadata": {
        "id": "yIfi6_hNq4DR"
      },
      "source": [
        "#Third Business Moment\n",
        "Skew=pd.DataFrame(df_num.skew(),columns=[\"Skew\"]).reset_index()"
      ],
      "execution_count": null,
      "outputs": []
    },
    {
      "cell_type": "code",
      "metadata": {
        "id": "8o3vAsYYq-CR"
      },
      "source": [
        "#Fourth Business Moment\n",
        "Kurtosis=pd.DataFrame(df_num.kurt(),columns=[\"Kurtosis\"]).reset_index()"
      ],
      "execution_count": null,
      "outputs": []
    },
    {
      "cell_type": "code",
      "metadata": {
        "colab": {
          "base_uri": "https://localhost:8080/"
        },
        "id": "HYkOi_RLrDsF",
        "outputId": "971e5eda-50e3-4e7c-dcc3-9486cf685f6d"
      },
      "source": [
        "eda=pd.concat([Mean[\"index\"],Mean[\"Mean\"],Median[\"Median\"],Mode[\"Mode\"],\n",
        "               Variance[\"Variance\"],Standard[\"Standard_Deviation\"],Range[\"Range\"],\n",
        "               Skew[\"Skew\"],Kurtosis[\"Kurtosis\"]],axis=1)\n",
        "print(eda)"
      ],
      "execution_count": null,
      "outputs": [
        {
          "output_type": "stream",
          "name": "stdout",
          "text": [
            "                     index        Mean  Median  ...   Range      Skew  Kurtosis\n",
            "0           Account length  101.064806  101.00  ...  105.00  0.096606 -0.107836\n",
            "1                Area code  437.182418  415.00  ...  415.00  1.126823 -0.705632\n",
            "2    Number vmail messages    8.099010    0.00  ...    0.00  1.264824 -0.051129\n",
            "3        Total day minutes  179.775098  179.40  ...  154.00 -0.029077 -0.019940\n",
            "4          Total day calls  100.435644  101.00  ...  102.00 -0.111787  0.243182\n",
            "5         Total day charge   30.562307   30.50  ...   26.18 -0.029083 -0.019812\n",
            "6        Total eve minutes  200.980348  201.40  ...  169.90 -0.023877  0.025630\n",
            "7          Total eve calls  100.114311  100.00  ...  105.00 -0.055563  0.206156\n",
            "8         Total eve charge   17.083540   17.12  ...   14.25 -0.023858  0.025487\n",
            "9      Total night minutes  200.872037  201.20  ...  188.20  0.008921  0.085816\n",
            "10       Total night calls  100.107711  100.00  ...  105.00  0.032500 -0.072020\n",
            "11      Total night charge    9.039325    9.05  ...    9.45  0.008886  0.085663\n",
            "12      Total intl minutes   10.237294   10.30  ...   10.00 -0.245136  0.609185\n",
            "13        Total intl calls    4.479448    4.00  ...    3.00  1.321478  3.083589\n",
            "14       Total intl charge    2.764581    2.78  ...    2.70 -0.245287  0.609610\n",
            "15  Customer service calls    1.562856    1.00  ...    1.00  1.091359  1.730914\n",
            "16                   Churn    0.144914    0.00  ...    0.00  2.018356  2.075006\n",
            "\n",
            "[17 rows x 9 columns]\n"
          ]
        }
      ]
    }
  ]
}